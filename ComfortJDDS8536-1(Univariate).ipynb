{
  "cells": [
    {
      "cell_type": "markdown",
      "id": "66ccfc5d-e575-4a84-99d0-f3a33e04c73e",
      "metadata": {
        "id": "66ccfc5d-e575-4a84-99d0-f3a33e04c73e"
      },
      "source": [
        "# Univariate Gold Price Analysis Using K-Means and DBSCAN"
      ]
    },
    {
      "cell_type": "markdown",
      "id": "097fea59-08ac-4ee8-99be-4caad5ec27f0",
      "metadata": {
        "id": "097fea59-08ac-4ee8-99be-4caad5ec27f0"
      },
      "source": [
        "## 1.0 Business understanding"
      ]
    },
    {
      "cell_type": "markdown",
      "id": "c63ef84b-0040-4636-b3a7-37380b7ba82a",
      "metadata": {
        "id": "c63ef84b-0040-4636-b3a7-37380b7ba82a"
      },
      "source": [
        "### 1.1 Business objective"
      ]
    },
    {
      "cell_type": "markdown",
      "id": "b8f741b6-4426-4c3a-9c32-998a27497492",
      "metadata": {
        "id": "b8f741b6-4426-4c3a-9c32-998a27497492"
      },
      "source": [
        "### 1.2 Situational assessment"
      ]
    },
    {
      "cell_type": "markdown",
      "id": "cc56970b-ef7b-48f2-b3f2-ddc679c2d781",
      "metadata": {
        "id": "cc56970b-ef7b-48f2-b3f2-ddc679c2d781"
      },
      "source": [
        "**Research Question #1:**\n",
        "\n",
        "Are there distinct clusters of gold prices?\n",
        "\n",
        "**Hypothesis Couplet**\n",
        "\n",
        "Null Hypothesis (H<sub>0</sub>): •\tThere are no differentiated clusters of gold prices.\n",
        "\n",
        "\n",
        "Alternate Hypothesis (H<sub>1</sub>): There are differentiated clusters of gold prices.\n"
      ]
    },
    {
      "cell_type": "markdown",
      "id": "816221c4-ff84-4408-95a1-82644f316aad",
      "metadata": {
        "id": "816221c4-ff84-4408-95a1-82644f316aad"
      },
      "source": [
        "## 2.0 Data Understanding"
      ]
    },
    {
      "cell_type": "markdown",
      "id": "065f2439-d81b-4a4c-a164-ef02f1d5535f",
      "metadata": {
        "id": "065f2439-d81b-4a4c-a164-ef02f1d5535f"
      },
      "source": [
        "### 2.1 Prelimary data analysis"
      ]
    },
    {
      "cell_type": "markdown",
      "id": "F22w24LAlNAq",
      "metadata": {
        "id": "F22w24LAlNAq"
      },
      "source": [
        "#### 2.1.1 Data mining goals"
      ]
    },
    {
      "cell_type": "markdown",
      "id": "EWAsFD33l16s",
      "metadata": {
        "id": "EWAsFD33l16s"
      },
      "source": [
        "#### 2.1.2 Import libraries"
      ]
    },
    {
      "cell_type": "code",
      "execution_count": null,
      "id": "fFzCQoWJgagF",
      "metadata": {
        "id": "fFzCQoWJgagF"
      },
      "outputs": [],
      "source": [
        "# Import required libraries\n",
        "import pandas as pd\n",
        "import matplotlib.pyplot as plt\n",
        "import plotly.express as px\n",
        "import plotly.io as pio\n",
        "import numpy as np\n",
        "import seaborn as sns\n",
        "import itertools\n",
        "import warnings"
      ]
    },
    {
      "cell_type": "code",
      "execution_count": null,
      "id": "0Rb6EFZTgcD8",
      "metadata": {
        "id": "0Rb6EFZTgcD8"
      },
      "outputs": [],
      "source": [
        "from sklearn.preprocessing import StandardScaler\n",
        "from sklearn.cluster import KMeans, DBSCAN, AgglomerativeClustering\n",
        "from sklearn.model_selection import train_test_split\n",
        "from sklearn.svm import SVC\n",
        "from sklearn.tree import DecisionTreeClassifier\n",
        "from sklearn.metrics import classification_report, confusion_matrix\n",
        "from sklearn.metrics import silhouette_score as ss\n",
        "from sklearn.decomposition import PCA\n",
        "from IPython.display import clear_output"
      ]
    },
    {
      "cell_type": "markdown",
      "id": "992e3ae5-d8ba-4a81-985e-378513890492",
      "metadata": {
        "id": "992e3ae5-d8ba-4a81-985e-378513890492"
      },
      "source": [
        "#### 2.1.3 Suppress warnings"
      ]
    },
    {
      "cell_type": "code",
      "execution_count": null,
      "id": "alownMrNhVFz",
      "metadata": {
        "id": "alownMrNhVFz"
      },
      "outputs": [],
      "source": [
        "warnings.filterwarnings('ignore')"
      ]
    },
    {
      "cell_type": "markdown",
      "id": "01df576b-ec9e-4ca8-9b6a-f2f9f822c4db",
      "metadata": {
        "id": "01df576b-ec9e-4ca8-9b6a-f2f9f822c4db"
      },
      "source": [
        "#### 2.1.4 Data ingestion"
      ]
    },
    {
      "cell_type": "code",
      "execution_count": null,
      "id": "ZzYq4GzCl9q8",
      "metadata": {
        "colab": {
          "base_uri": "https://localhost:8080/",
          "height": 71
        },
        "id": "ZzYq4GzCl9q8",
        "outputId": "f562ec8b-e4f1-4509-d0a4-40a447398102"
      },
      "outputs": [
        {
          "data": {
            "text/html": [
              "\n",
              "     <input type=\"file\" id=\"files-df397481-5bfa-4f33-923e-cb99f554a837\" name=\"files[]\" multiple disabled\n",
              "        style=\"border:none\" />\n",
              "     <output id=\"result-df397481-5bfa-4f33-923e-cb99f554a837\">\n",
              "      Upload widget is only available when the cell has been executed in the\n",
              "      current browser session. Please rerun this cell to enable.\n",
              "      </output>\n",
              "      <script>// Copyright 2017 Google LLC\n",
              "//\n",
              "// Licensed under the Apache License, Version 2.0 (the \"License\");\n",
              "// you may not use this file except in compliance with the License.\n",
              "// You may obtain a copy of the License at\n",
              "//\n",
              "//      http://www.apache.org/licenses/LICENSE-2.0\n",
              "//\n",
              "// Unless required by applicable law or agreed to in writing, software\n",
              "// distributed under the License is distributed on an \"AS IS\" BASIS,\n",
              "// WITHOUT WARRANTIES OR CONDITIONS OF ANY KIND, either express or implied.\n",
              "// See the License for the specific language governing permissions and\n",
              "// limitations under the License.\n",
              "\n",
              "/**\n",
              " * @fileoverview Helpers for google.colab Python module.\n",
              " */\n",
              "(function(scope) {\n",
              "function span(text, styleAttributes = {}) {\n",
              "  const element = document.createElement('span');\n",
              "  element.textContent = text;\n",
              "  for (const key of Object.keys(styleAttributes)) {\n",
              "    element.style[key] = styleAttributes[key];\n",
              "  }\n",
              "  return element;\n",
              "}\n",
              "\n",
              "// Max number of bytes which will be uploaded at a time.\n",
              "const MAX_PAYLOAD_SIZE = 100 * 1024;\n",
              "\n",
              "function _uploadFiles(inputId, outputId) {\n",
              "  const steps = uploadFilesStep(inputId, outputId);\n",
              "  const outputElement = document.getElementById(outputId);\n",
              "  // Cache steps on the outputElement to make it available for the next call\n",
              "  // to uploadFilesContinue from Python.\n",
              "  outputElement.steps = steps;\n",
              "\n",
              "  return _uploadFilesContinue(outputId);\n",
              "}\n",
              "\n",
              "// This is roughly an async generator (not supported in the browser yet),\n",
              "// where there are multiple asynchronous steps and the Python side is going\n",
              "// to poll for completion of each step.\n",
              "// This uses a Promise to block the python side on completion of each step,\n",
              "// then passes the result of the previous step as the input to the next step.\n",
              "function _uploadFilesContinue(outputId) {\n",
              "  const outputElement = document.getElementById(outputId);\n",
              "  const steps = outputElement.steps;\n",
              "\n",
              "  const next = steps.next(outputElement.lastPromiseValue);\n",
              "  return Promise.resolve(next.value.promise).then((value) => {\n",
              "    // Cache the last promise value to make it available to the next\n",
              "    // step of the generator.\n",
              "    outputElement.lastPromiseValue = value;\n",
              "    return next.value.response;\n",
              "  });\n",
              "}\n",
              "\n",
              "/**\n",
              " * Generator function which is called between each async step of the upload\n",
              " * process.\n",
              " * @param {string} inputId Element ID of the input file picker element.\n",
              " * @param {string} outputId Element ID of the output display.\n",
              " * @return {!Iterable<!Object>} Iterable of next steps.\n",
              " */\n",
              "function* uploadFilesStep(inputId, outputId) {\n",
              "  const inputElement = document.getElementById(inputId);\n",
              "  inputElement.disabled = false;\n",
              "\n",
              "  const outputElement = document.getElementById(outputId);\n",
              "  outputElement.innerHTML = '';\n",
              "\n",
              "  const pickedPromise = new Promise((resolve) => {\n",
              "    inputElement.addEventListener('change', (e) => {\n",
              "      resolve(e.target.files);\n",
              "    });\n",
              "  });\n",
              "\n",
              "  const cancel = document.createElement('button');\n",
              "  inputElement.parentElement.appendChild(cancel);\n",
              "  cancel.textContent = 'Cancel upload';\n",
              "  const cancelPromise = new Promise((resolve) => {\n",
              "    cancel.onclick = () => {\n",
              "      resolve(null);\n",
              "    };\n",
              "  });\n",
              "\n",
              "  // Wait for the user to pick the files.\n",
              "  const files = yield {\n",
              "    promise: Promise.race([pickedPromise, cancelPromise]),\n",
              "    response: {\n",
              "      action: 'starting',\n",
              "    }\n",
              "  };\n",
              "\n",
              "  cancel.remove();\n",
              "\n",
              "  // Disable the input element since further picks are not allowed.\n",
              "  inputElement.disabled = true;\n",
              "\n",
              "  if (!files) {\n",
              "    return {\n",
              "      response: {\n",
              "        action: 'complete',\n",
              "      }\n",
              "    };\n",
              "  }\n",
              "\n",
              "  for (const file of files) {\n",
              "    const li = document.createElement('li');\n",
              "    li.append(span(file.name, {fontWeight: 'bold'}));\n",
              "    li.append(span(\n",
              "        `(${file.type || 'n/a'}) - ${file.size} bytes, ` +\n",
              "        `last modified: ${\n",
              "            file.lastModifiedDate ? file.lastModifiedDate.toLocaleDateString() :\n",
              "                                    'n/a'} - `));\n",
              "    const percent = span('0% done');\n",
              "    li.appendChild(percent);\n",
              "\n",
              "    outputElement.appendChild(li);\n",
              "\n",
              "    const fileDataPromise = new Promise((resolve) => {\n",
              "      const reader = new FileReader();\n",
              "      reader.onload = (e) => {\n",
              "        resolve(e.target.result);\n",
              "      };\n",
              "      reader.readAsArrayBuffer(file);\n",
              "    });\n",
              "    // Wait for the data to be ready.\n",
              "    let fileData = yield {\n",
              "      promise: fileDataPromise,\n",
              "      response: {\n",
              "        action: 'continue',\n",
              "      }\n",
              "    };\n",
              "\n",
              "    // Use a chunked sending to avoid message size limits. See b/62115660.\n",
              "    let position = 0;\n",
              "    do {\n",
              "      const length = Math.min(fileData.byteLength - position, MAX_PAYLOAD_SIZE);\n",
              "      const chunk = new Uint8Array(fileData, position, length);\n",
              "      position += length;\n",
              "\n",
              "      const base64 = btoa(String.fromCharCode.apply(null, chunk));\n",
              "      yield {\n",
              "        response: {\n",
              "          action: 'append',\n",
              "          file: file.name,\n",
              "          data: base64,\n",
              "        },\n",
              "      };\n",
              "\n",
              "      let percentDone = fileData.byteLength === 0 ?\n",
              "          100 :\n",
              "          Math.round((position / fileData.byteLength) * 100);\n",
              "      percent.textContent = `${percentDone}% done`;\n",
              "\n",
              "    } while (position < fileData.byteLength);\n",
              "  }\n",
              "\n",
              "  // All done.\n",
              "  yield {\n",
              "    response: {\n",
              "      action: 'complete',\n",
              "    }\n",
              "  };\n",
              "}\n",
              "\n",
              "scope.google = scope.google || {};\n",
              "scope.google.colab = scope.google.colab || {};\n",
              "scope.google.colab._files = {\n",
              "  _uploadFiles,\n",
              "  _uploadFilesContinue,\n",
              "};\n",
              "})(self);\n",
              "</script> "
            ],
            "text/plain": [
              "<IPython.core.display.HTML object>"
            ]
          },
          "metadata": {},
          "output_type": "display_data"
        },
        {
          "name": "stdout",
          "output_type": "stream",
          "text": [
            "Saving gold_price_data.csv to gold_price_data.csv\n"
          ]
        }
      ],
      "source": [
        "# Import dataset\n",
        "#create 2-dimensional dataFrames from a imported data.\n",
        "#Choose the local file (baseball.csv).\n",
        "#NOTE: YOU WILL NEED TO ALLOW THIRD-PARTY COOKIES FROM THIS SITE colab.research.google.com\n",
        "from google.colab import files\n",
        "uploaded = files.upload()"
      ]
    },
    {
      "cell_type": "code",
      "execution_count": null,
      "id": "5aHaGngLmEzh",
      "metadata": {
        "id": "5aHaGngLmEzh"
      },
      "outputs": [],
      "source": [
        "file_name = \"gold_price_data.csv\""
      ]
    },
    {
      "cell_type": "code",
      "execution_count": null,
      "id": "etaxchhrmAYn",
      "metadata": {
        "colab": {
          "base_uri": "https://localhost:8080/",
          "height": 206
        },
        "id": "etaxchhrmAYn",
        "outputId": "9e9fee87-a41a-4d06-f3f3-ccfe3359234e"
      },
      "outputs": [
        {
          "data": {
            "application/vnd.google.colaboratory.intrinsic+json": {
              "summary": "{\n  \"name\": \"df\",\n  \"rows\": 10787,\n  \"fields\": [\n    {\n      \"column\": \"Date\",\n      \"properties\": {\n        \"dtype\": \"object\",\n        \"num_unique_values\": 10787,\n        \"samples\": [\n          \"2012-03-16\",\n          \"2019-02-18\",\n          \"1992-09-16\"\n        ],\n        \"semantic_type\": \"\",\n        \"description\": \"\"\n      }\n    },\n    {\n      \"column\": \"Value\",\n      \"properties\": {\n        \"dtype\": \"number\",\n        \"std\": 434.03084750601806,\n        \"min\": 35.1,\n        \"max\": 1895.0,\n        \"num_unique_values\": 5901,\n        \"samples\": [\n          790.25,\n          1290.35,\n          1212.85\n        ],\n        \"semantic_type\": \"\",\n        \"description\": \"\"\n      }\n    }\n  ]\n}",
              "type": "dataframe",
              "variable_name": "df"
            },
            "text/html": [
              "\n",
              "  <div id=\"df-0defa41a-c0af-40c5-84e6-c1a252bb8f0e\" class=\"colab-df-container\">\n",
              "    <div>\n",
              "<style scoped>\n",
              "    .dataframe tbody tr th:only-of-type {\n",
              "        vertical-align: middle;\n",
              "    }\n",
              "\n",
              "    .dataframe tbody tr th {\n",
              "        vertical-align: top;\n",
              "    }\n",
              "\n",
              "    .dataframe thead th {\n",
              "        text-align: right;\n",
              "    }\n",
              "</style>\n",
              "<table border=\"1\" class=\"dataframe\">\n",
              "  <thead>\n",
              "    <tr style=\"text-align: right;\">\n",
              "      <th></th>\n",
              "      <th>Date</th>\n",
              "      <th>Value</th>\n",
              "    </tr>\n",
              "  </thead>\n",
              "  <tbody>\n",
              "    <tr>\n",
              "      <th>0</th>\n",
              "      <td>1970-01-01</td>\n",
              "      <td>35.2</td>\n",
              "    </tr>\n",
              "    <tr>\n",
              "      <th>1</th>\n",
              "      <td>1970-04-01</td>\n",
              "      <td>35.1</td>\n",
              "    </tr>\n",
              "    <tr>\n",
              "      <th>2</th>\n",
              "      <td>1970-07-01</td>\n",
              "      <td>35.4</td>\n",
              "    </tr>\n",
              "    <tr>\n",
              "      <th>3</th>\n",
              "      <td>1970-10-01</td>\n",
              "      <td>36.2</td>\n",
              "    </tr>\n",
              "    <tr>\n",
              "      <th>4</th>\n",
              "      <td>1971-01-01</td>\n",
              "      <td>37.4</td>\n",
              "    </tr>\n",
              "  </tbody>\n",
              "</table>\n",
              "</div>\n",
              "    <div class=\"colab-df-buttons\">\n",
              "\n",
              "  <div class=\"colab-df-container\">\n",
              "    <button class=\"colab-df-convert\" onclick=\"convertToInteractive('df-0defa41a-c0af-40c5-84e6-c1a252bb8f0e')\"\n",
              "            title=\"Convert this dataframe to an interactive table.\"\n",
              "            style=\"display:none;\">\n",
              "\n",
              "  <svg xmlns=\"http://www.w3.org/2000/svg\" height=\"24px\" viewBox=\"0 -960 960 960\">\n",
              "    <path d=\"M120-120v-720h720v720H120Zm60-500h600v-160H180v160Zm220 220h160v-160H400v160Zm0 220h160v-160H400v160ZM180-400h160v-160H180v160Zm440 0h160v-160H620v160ZM180-180h160v-160H180v160Zm440 0h160v-160H620v160Z\"/>\n",
              "  </svg>\n",
              "    </button>\n",
              "\n",
              "  <style>\n",
              "    .colab-df-container {\n",
              "      display:flex;\n",
              "      gap: 12px;\n",
              "    }\n",
              "\n",
              "    .colab-df-convert {\n",
              "      background-color: #E8F0FE;\n",
              "      border: none;\n",
              "      border-radius: 50%;\n",
              "      cursor: pointer;\n",
              "      display: none;\n",
              "      fill: #1967D2;\n",
              "      height: 32px;\n",
              "      padding: 0 0 0 0;\n",
              "      width: 32px;\n",
              "    }\n",
              "\n",
              "    .colab-df-convert:hover {\n",
              "      background-color: #E2EBFA;\n",
              "      box-shadow: 0px 1px 2px rgba(60, 64, 67, 0.3), 0px 1px 3px 1px rgba(60, 64, 67, 0.15);\n",
              "      fill: #174EA6;\n",
              "    }\n",
              "\n",
              "    .colab-df-buttons div {\n",
              "      margin-bottom: 4px;\n",
              "    }\n",
              "\n",
              "    [theme=dark] .colab-df-convert {\n",
              "      background-color: #3B4455;\n",
              "      fill: #D2E3FC;\n",
              "    }\n",
              "\n",
              "    [theme=dark] .colab-df-convert:hover {\n",
              "      background-color: #434B5C;\n",
              "      box-shadow: 0px 1px 3px 1px rgba(0, 0, 0, 0.15);\n",
              "      filter: drop-shadow(0px 1px 2px rgba(0, 0, 0, 0.3));\n",
              "      fill: #FFFFFF;\n",
              "    }\n",
              "  </style>\n",
              "\n",
              "    <script>\n",
              "      const buttonEl =\n",
              "        document.querySelector('#df-0defa41a-c0af-40c5-84e6-c1a252bb8f0e button.colab-df-convert');\n",
              "      buttonEl.style.display =\n",
              "        google.colab.kernel.accessAllowed ? 'block' : 'none';\n",
              "\n",
              "      async function convertToInteractive(key) {\n",
              "        const element = document.querySelector('#df-0defa41a-c0af-40c5-84e6-c1a252bb8f0e');\n",
              "        const dataTable =\n",
              "          await google.colab.kernel.invokeFunction('convertToInteractive',\n",
              "                                                    [key], {});\n",
              "        if (!dataTable) return;\n",
              "\n",
              "        const docLinkHtml = 'Like what you see? Visit the ' +\n",
              "          '<a target=\"_blank\" href=https://colab.research.google.com/notebooks/data_table.ipynb>data table notebook</a>'\n",
              "          + ' to learn more about interactive tables.';\n",
              "        element.innerHTML = '';\n",
              "        dataTable['output_type'] = 'display_data';\n",
              "        await google.colab.output.renderOutput(dataTable, element);\n",
              "        const docLink = document.createElement('div');\n",
              "        docLink.innerHTML = docLinkHtml;\n",
              "        element.appendChild(docLink);\n",
              "      }\n",
              "    </script>\n",
              "  </div>\n",
              "\n",
              "\n",
              "    <div id=\"df-a6c2f632-fb46-4a87-b6c2-4cebe1271be7\">\n",
              "      <button class=\"colab-df-quickchart\" onclick=\"quickchart('df-a6c2f632-fb46-4a87-b6c2-4cebe1271be7')\"\n",
              "                title=\"Suggest charts\"\n",
              "                style=\"display:none;\">\n",
              "\n",
              "<svg xmlns=\"http://www.w3.org/2000/svg\" height=\"24px\"viewBox=\"0 0 24 24\"\n",
              "     width=\"24px\">\n",
              "    <g>\n",
              "        <path d=\"M19 3H5c-1.1 0-2 .9-2 2v14c0 1.1.9 2 2 2h14c1.1 0 2-.9 2-2V5c0-1.1-.9-2-2-2zM9 17H7v-7h2v7zm4 0h-2V7h2v10zm4 0h-2v-4h2v4z\"/>\n",
              "    </g>\n",
              "</svg>\n",
              "      </button>\n",
              "\n",
              "<style>\n",
              "  .colab-df-quickchart {\n",
              "      --bg-color: #E8F0FE;\n",
              "      --fill-color: #1967D2;\n",
              "      --hover-bg-color: #E2EBFA;\n",
              "      --hover-fill-color: #174EA6;\n",
              "      --disabled-fill-color: #AAA;\n",
              "      --disabled-bg-color: #DDD;\n",
              "  }\n",
              "\n",
              "  [theme=dark] .colab-df-quickchart {\n",
              "      --bg-color: #3B4455;\n",
              "      --fill-color: #D2E3FC;\n",
              "      --hover-bg-color: #434B5C;\n",
              "      --hover-fill-color: #FFFFFF;\n",
              "      --disabled-bg-color: #3B4455;\n",
              "      --disabled-fill-color: #666;\n",
              "  }\n",
              "\n",
              "  .colab-df-quickchart {\n",
              "    background-color: var(--bg-color);\n",
              "    border: none;\n",
              "    border-radius: 50%;\n",
              "    cursor: pointer;\n",
              "    display: none;\n",
              "    fill: var(--fill-color);\n",
              "    height: 32px;\n",
              "    padding: 0;\n",
              "    width: 32px;\n",
              "  }\n",
              "\n",
              "  .colab-df-quickchart:hover {\n",
              "    background-color: var(--hover-bg-color);\n",
              "    box-shadow: 0 1px 2px rgba(60, 64, 67, 0.3), 0 1px 3px 1px rgba(60, 64, 67, 0.15);\n",
              "    fill: var(--button-hover-fill-color);\n",
              "  }\n",
              "\n",
              "  .colab-df-quickchart-complete:disabled,\n",
              "  .colab-df-quickchart-complete:disabled:hover {\n",
              "    background-color: var(--disabled-bg-color);\n",
              "    fill: var(--disabled-fill-color);\n",
              "    box-shadow: none;\n",
              "  }\n",
              "\n",
              "  .colab-df-spinner {\n",
              "    border: 2px solid var(--fill-color);\n",
              "    border-color: transparent;\n",
              "    border-bottom-color: var(--fill-color);\n",
              "    animation:\n",
              "      spin 1s steps(1) infinite;\n",
              "  }\n",
              "\n",
              "  @keyframes spin {\n",
              "    0% {\n",
              "      border-color: transparent;\n",
              "      border-bottom-color: var(--fill-color);\n",
              "      border-left-color: var(--fill-color);\n",
              "    }\n",
              "    20% {\n",
              "      border-color: transparent;\n",
              "      border-left-color: var(--fill-color);\n",
              "      border-top-color: var(--fill-color);\n",
              "    }\n",
              "    30% {\n",
              "      border-color: transparent;\n",
              "      border-left-color: var(--fill-color);\n",
              "      border-top-color: var(--fill-color);\n",
              "      border-right-color: var(--fill-color);\n",
              "    }\n",
              "    40% {\n",
              "      border-color: transparent;\n",
              "      border-right-color: var(--fill-color);\n",
              "      border-top-color: var(--fill-color);\n",
              "    }\n",
              "    60% {\n",
              "      border-color: transparent;\n",
              "      border-right-color: var(--fill-color);\n",
              "    }\n",
              "    80% {\n",
              "      border-color: transparent;\n",
              "      border-right-color: var(--fill-color);\n",
              "      border-bottom-color: var(--fill-color);\n",
              "    }\n",
              "    90% {\n",
              "      border-color: transparent;\n",
              "      border-bottom-color: var(--fill-color);\n",
              "    }\n",
              "  }\n",
              "</style>\n",
              "\n",
              "      <script>\n",
              "        async function quickchart(key) {\n",
              "          const quickchartButtonEl =\n",
              "            document.querySelector('#' + key + ' button');\n",
              "          quickchartButtonEl.disabled = true;  // To prevent multiple clicks.\n",
              "          quickchartButtonEl.classList.add('colab-df-spinner');\n",
              "          try {\n",
              "            const charts = await google.colab.kernel.invokeFunction(\n",
              "                'suggestCharts', [key], {});\n",
              "          } catch (error) {\n",
              "            console.error('Error during call to suggestCharts:', error);\n",
              "          }\n",
              "          quickchartButtonEl.classList.remove('colab-df-spinner');\n",
              "          quickchartButtonEl.classList.add('colab-df-quickchart-complete');\n",
              "        }\n",
              "        (() => {\n",
              "          let quickchartButtonEl =\n",
              "            document.querySelector('#df-a6c2f632-fb46-4a87-b6c2-4cebe1271be7 button');\n",
              "          quickchartButtonEl.style.display =\n",
              "            google.colab.kernel.accessAllowed ? 'block' : 'none';\n",
              "        })();\n",
              "      </script>\n",
              "    </div>\n",
              "\n",
              "    </div>\n",
              "  </div>\n"
            ],
            "text/plain": [
              "         Date  Value\n",
              "0  1970-01-01   35.2\n",
              "1  1970-04-01   35.1\n",
              "2  1970-07-01   35.4\n",
              "3  1970-10-01   36.2\n",
              "4  1971-01-01   37.4"
            ]
          },
          "execution_count": 6,
          "metadata": {},
          "output_type": "execute_result"
        }
      ],
      "source": [
        "# Load dataset\n",
        "df=pd.read_csv(file_name)\n",
        "df.head(5)"
      ]
    },
    {
      "cell_type": "markdown",
      "id": "f7d65f64-9ba6-4697-b1e2-1c8b1a17b01b",
      "metadata": {
        "id": "f7d65f64-9ba6-4697-b1e2-1c8b1a17b01b"
      },
      "source": [
        "#### 2.1.5 Data description"
      ]
    },
    {
      "cell_type": "markdown",
      "id": "iOZvKv8Am9FC",
      "metadata": {
        "id": "iOZvKv8Am9FC"
      },
      "source": [
        "**High Level Data Dictionary**\n",
        "\n",
        "* Date: Date\n",
        "* Value: Gold price per ounce"
      ]
    },
    {
      "cell_type": "code",
      "execution_count": null,
      "id": "Q3xy4O0Nq7Xv",
      "metadata": {
        "colab": {
          "base_uri": "https://localhost:8080/",
          "height": 300
        },
        "id": "Q3xy4O0Nq7Xv",
        "outputId": "6cfe0585-aa87-4b81-ed95-966bf3c7b96d"
      },
      "outputs": [
        {
          "data": {
            "application/vnd.google.colaboratory.intrinsic+json": {
              "summary": "{\n  \"name\": \"df\",\n  \"rows\": 8,\n  \"fields\": [\n    {\n      \"column\": \"Value\",\n      \"properties\": {\n        \"dtype\": \"number\",\n        \"std\": 3614.78226681472,\n        \"min\": 35.1,\n        \"max\": 10787.0,\n        \"num_unique_values\": 8,\n        \"samples\": [\n          653.5966339111894,\n          409.35,\n          10787.0\n        ],\n        \"semantic_type\": \"\",\n        \"description\": \"\"\n      }\n    }\n  ]\n}",
              "type": "dataframe"
            },
            "text/html": [
              "\n",
              "  <div id=\"df-f947c5c9-106d-4723-9061-f97e10c4b77c\" class=\"colab-df-container\">\n",
              "    <div>\n",
              "<style scoped>\n",
              "    .dataframe tbody tr th:only-of-type {\n",
              "        vertical-align: middle;\n",
              "    }\n",
              "\n",
              "    .dataframe tbody tr th {\n",
              "        vertical-align: top;\n",
              "    }\n",
              "\n",
              "    .dataframe thead th {\n",
              "        text-align: right;\n",
              "    }\n",
              "</style>\n",
              "<table border=\"1\" class=\"dataframe\">\n",
              "  <thead>\n",
              "    <tr style=\"text-align: right;\">\n",
              "      <th></th>\n",
              "      <th>Value</th>\n",
              "    </tr>\n",
              "  </thead>\n",
              "  <tbody>\n",
              "    <tr>\n",
              "      <th>count</th>\n",
              "      <td>10787.000000</td>\n",
              "    </tr>\n",
              "    <tr>\n",
              "      <th>mean</th>\n",
              "      <td>653.596634</td>\n",
              "    </tr>\n",
              "    <tr>\n",
              "      <th>std</th>\n",
              "      <td>434.030848</td>\n",
              "    </tr>\n",
              "    <tr>\n",
              "      <th>min</th>\n",
              "      <td>35.100000</td>\n",
              "    </tr>\n",
              "    <tr>\n",
              "      <th>25%</th>\n",
              "      <td>349.200000</td>\n",
              "    </tr>\n",
              "    <tr>\n",
              "      <th>50%</th>\n",
              "      <td>409.350000</td>\n",
              "    </tr>\n",
              "    <tr>\n",
              "      <th>75%</th>\n",
              "      <td>1061.625000</td>\n",
              "    </tr>\n",
              "    <tr>\n",
              "      <th>max</th>\n",
              "      <td>1895.000000</td>\n",
              "    </tr>\n",
              "  </tbody>\n",
              "</table>\n",
              "</div>\n",
              "    <div class=\"colab-df-buttons\">\n",
              "\n",
              "  <div class=\"colab-df-container\">\n",
              "    <button class=\"colab-df-convert\" onclick=\"convertToInteractive('df-f947c5c9-106d-4723-9061-f97e10c4b77c')\"\n",
              "            title=\"Convert this dataframe to an interactive table.\"\n",
              "            style=\"display:none;\">\n",
              "\n",
              "  <svg xmlns=\"http://www.w3.org/2000/svg\" height=\"24px\" viewBox=\"0 -960 960 960\">\n",
              "    <path d=\"M120-120v-720h720v720H120Zm60-500h600v-160H180v160Zm220 220h160v-160H400v160Zm0 220h160v-160H400v160ZM180-400h160v-160H180v160Zm440 0h160v-160H620v160ZM180-180h160v-160H180v160Zm440 0h160v-160H620v160Z\"/>\n",
              "  </svg>\n",
              "    </button>\n",
              "\n",
              "  <style>\n",
              "    .colab-df-container {\n",
              "      display:flex;\n",
              "      gap: 12px;\n",
              "    }\n",
              "\n",
              "    .colab-df-convert {\n",
              "      background-color: #E8F0FE;\n",
              "      border: none;\n",
              "      border-radius: 50%;\n",
              "      cursor: pointer;\n",
              "      display: none;\n",
              "      fill: #1967D2;\n",
              "      height: 32px;\n",
              "      padding: 0 0 0 0;\n",
              "      width: 32px;\n",
              "    }\n",
              "\n",
              "    .colab-df-convert:hover {\n",
              "      background-color: #E2EBFA;\n",
              "      box-shadow: 0px 1px 2px rgba(60, 64, 67, 0.3), 0px 1px 3px 1px rgba(60, 64, 67, 0.15);\n",
              "      fill: #174EA6;\n",
              "    }\n",
              "\n",
              "    .colab-df-buttons div {\n",
              "      margin-bottom: 4px;\n",
              "    }\n",
              "\n",
              "    [theme=dark] .colab-df-convert {\n",
              "      background-color: #3B4455;\n",
              "      fill: #D2E3FC;\n",
              "    }\n",
              "\n",
              "    [theme=dark] .colab-df-convert:hover {\n",
              "      background-color: #434B5C;\n",
              "      box-shadow: 0px 1px 3px 1px rgba(0, 0, 0, 0.15);\n",
              "      filter: drop-shadow(0px 1px 2px rgba(0, 0, 0, 0.3));\n",
              "      fill: #FFFFFF;\n",
              "    }\n",
              "  </style>\n",
              "\n",
              "    <script>\n",
              "      const buttonEl =\n",
              "        document.querySelector('#df-f947c5c9-106d-4723-9061-f97e10c4b77c button.colab-df-convert');\n",
              "      buttonEl.style.display =\n",
              "        google.colab.kernel.accessAllowed ? 'block' : 'none';\n",
              "\n",
              "      async function convertToInteractive(key) {\n",
              "        const element = document.querySelector('#df-f947c5c9-106d-4723-9061-f97e10c4b77c');\n",
              "        const dataTable =\n",
              "          await google.colab.kernel.invokeFunction('convertToInteractive',\n",
              "                                                    [key], {});\n",
              "        if (!dataTable) return;\n",
              "\n",
              "        const docLinkHtml = 'Like what you see? Visit the ' +\n",
              "          '<a target=\"_blank\" href=https://colab.research.google.com/notebooks/data_table.ipynb>data table notebook</a>'\n",
              "          + ' to learn more about interactive tables.';\n",
              "        element.innerHTML = '';\n",
              "        dataTable['output_type'] = 'display_data';\n",
              "        await google.colab.output.renderOutput(dataTable, element);\n",
              "        const docLink = document.createElement('div');\n",
              "        docLink.innerHTML = docLinkHtml;\n",
              "        element.appendChild(docLink);\n",
              "      }\n",
              "    </script>\n",
              "  </div>\n",
              "\n",
              "\n",
              "    <div id=\"df-352b0e80-ecd8-4956-8a7f-9893fc491d26\">\n",
              "      <button class=\"colab-df-quickchart\" onclick=\"quickchart('df-352b0e80-ecd8-4956-8a7f-9893fc491d26')\"\n",
              "                title=\"Suggest charts\"\n",
              "                style=\"display:none;\">\n",
              "\n",
              "<svg xmlns=\"http://www.w3.org/2000/svg\" height=\"24px\"viewBox=\"0 0 24 24\"\n",
              "     width=\"24px\">\n",
              "    <g>\n",
              "        <path d=\"M19 3H5c-1.1 0-2 .9-2 2v14c0 1.1.9 2 2 2h14c1.1 0 2-.9 2-2V5c0-1.1-.9-2-2-2zM9 17H7v-7h2v7zm4 0h-2V7h2v10zm4 0h-2v-4h2v4z\"/>\n",
              "    </g>\n",
              "</svg>\n",
              "      </button>\n",
              "\n",
              "<style>\n",
              "  .colab-df-quickchart {\n",
              "      --bg-color: #E8F0FE;\n",
              "      --fill-color: #1967D2;\n",
              "      --hover-bg-color: #E2EBFA;\n",
              "      --hover-fill-color: #174EA6;\n",
              "      --disabled-fill-color: #AAA;\n",
              "      --disabled-bg-color: #DDD;\n",
              "  }\n",
              "\n",
              "  [theme=dark] .colab-df-quickchart {\n",
              "      --bg-color: #3B4455;\n",
              "      --fill-color: #D2E3FC;\n",
              "      --hover-bg-color: #434B5C;\n",
              "      --hover-fill-color: #FFFFFF;\n",
              "      --disabled-bg-color: #3B4455;\n",
              "      --disabled-fill-color: #666;\n",
              "  }\n",
              "\n",
              "  .colab-df-quickchart {\n",
              "    background-color: var(--bg-color);\n",
              "    border: none;\n",
              "    border-radius: 50%;\n",
              "    cursor: pointer;\n",
              "    display: none;\n",
              "    fill: var(--fill-color);\n",
              "    height: 32px;\n",
              "    padding: 0;\n",
              "    width: 32px;\n",
              "  }\n",
              "\n",
              "  .colab-df-quickchart:hover {\n",
              "    background-color: var(--hover-bg-color);\n",
              "    box-shadow: 0 1px 2px rgba(60, 64, 67, 0.3), 0 1px 3px 1px rgba(60, 64, 67, 0.15);\n",
              "    fill: var(--button-hover-fill-color);\n",
              "  }\n",
              "\n",
              "  .colab-df-quickchart-complete:disabled,\n",
              "  .colab-df-quickchart-complete:disabled:hover {\n",
              "    background-color: var(--disabled-bg-color);\n",
              "    fill: var(--disabled-fill-color);\n",
              "    box-shadow: none;\n",
              "  }\n",
              "\n",
              "  .colab-df-spinner {\n",
              "    border: 2px solid var(--fill-color);\n",
              "    border-color: transparent;\n",
              "    border-bottom-color: var(--fill-color);\n",
              "    animation:\n",
              "      spin 1s steps(1) infinite;\n",
              "  }\n",
              "\n",
              "  @keyframes spin {\n",
              "    0% {\n",
              "      border-color: transparent;\n",
              "      border-bottom-color: var(--fill-color);\n",
              "      border-left-color: var(--fill-color);\n",
              "    }\n",
              "    20% {\n",
              "      border-color: transparent;\n",
              "      border-left-color: var(--fill-color);\n",
              "      border-top-color: var(--fill-color);\n",
              "    }\n",
              "    30% {\n",
              "      border-color: transparent;\n",
              "      border-left-color: var(--fill-color);\n",
              "      border-top-color: var(--fill-color);\n",
              "      border-right-color: var(--fill-color);\n",
              "    }\n",
              "    40% {\n",
              "      border-color: transparent;\n",
              "      border-right-color: var(--fill-color);\n",
              "      border-top-color: var(--fill-color);\n",
              "    }\n",
              "    60% {\n",
              "      border-color: transparent;\n",
              "      border-right-color: var(--fill-color);\n",
              "    }\n",
              "    80% {\n",
              "      border-color: transparent;\n",
              "      border-right-color: var(--fill-color);\n",
              "      border-bottom-color: var(--fill-color);\n",
              "    }\n",
              "    90% {\n",
              "      border-color: transparent;\n",
              "      border-bottom-color: var(--fill-color);\n",
              "    }\n",
              "  }\n",
              "</style>\n",
              "\n",
              "      <script>\n",
              "        async function quickchart(key) {\n",
              "          const quickchartButtonEl =\n",
              "            document.querySelector('#' + key + ' button');\n",
              "          quickchartButtonEl.disabled = true;  // To prevent multiple clicks.\n",
              "          quickchartButtonEl.classList.add('colab-df-spinner');\n",
              "          try {\n",
              "            const charts = await google.colab.kernel.invokeFunction(\n",
              "                'suggestCharts', [key], {});\n",
              "          } catch (error) {\n",
              "            console.error('Error during call to suggestCharts:', error);\n",
              "          }\n",
              "          quickchartButtonEl.classList.remove('colab-df-spinner');\n",
              "          quickchartButtonEl.classList.add('colab-df-quickchart-complete');\n",
              "        }\n",
              "        (() => {\n",
              "          let quickchartButtonEl =\n",
              "            document.querySelector('#df-352b0e80-ecd8-4956-8a7f-9893fc491d26 button');\n",
              "          quickchartButtonEl.style.display =\n",
              "            google.colab.kernel.accessAllowed ? 'block' : 'none';\n",
              "        })();\n",
              "      </script>\n",
              "    </div>\n",
              "\n",
              "    </div>\n",
              "  </div>\n"
            ],
            "text/plain": [
              "              Value\n",
              "count  10787.000000\n",
              "mean     653.596634\n",
              "std      434.030848\n",
              "min       35.100000\n",
              "25%      349.200000\n",
              "50%      409.350000\n",
              "75%     1061.625000\n",
              "max     1895.000000"
            ]
          },
          "execution_count": 7,
          "metadata": {},
          "output_type": "execute_result"
        }
      ],
      "source": [
        "df.describe()"
      ]
    },
    {
      "cell_type": "markdown",
      "id": "a821a5fc-3443-43a9-b4e0-152564f36850",
      "metadata": {
        "id": "a821a5fc-3443-43a9-b4e0-152564f36850"
      },
      "source": [
        "### 2.2 Data quality"
      ]
    },
    {
      "cell_type": "markdown",
      "id": "6bf5ae71-b09a-43a4-95cf-0867d7084ee1",
      "metadata": {
        "id": "6bf5ae71-b09a-43a4-95cf-0867d7084ee1"
      },
      "source": [
        "#### 2.2.1 Check for missing values"
      ]
    },
    {
      "cell_type": "code",
      "execution_count": null,
      "id": "86Znomkjn9Gf",
      "metadata": {
        "colab": {
          "base_uri": "https://localhost:8080/"
        },
        "id": "86Znomkjn9Gf",
        "outputId": "4a58689e-c7f1-4cf5-b77f-f7a39ac63a25"
      },
      "outputs": [
        {
          "name": "stdout",
          "output_type": "stream",
          "text": [
            "<class 'pandas.core.frame.DataFrame'>\n",
            "RangeIndex: 10787 entries, 0 to 10786\n",
            "Data columns (total 2 columns):\n",
            " #   Column  Non-Null Count  Dtype  \n",
            "---  ------  --------------  -----  \n",
            " 0   Date    10787 non-null  object \n",
            " 1   Value   10787 non-null  float64\n",
            "dtypes: float64(1), object(1)\n",
            "memory usage: 168.7+ KB\n"
          ]
        }
      ],
      "source": [
        "df.info()"
      ]
    },
    {
      "cell_type": "markdown",
      "id": "4U7j7g8toHUd",
      "metadata": {
        "id": "4U7j7g8toHUd"
      },
      "source": [
        "There are no missing values."
      ]
    },
    {
      "cell_type": "markdown",
      "id": "b56d183b-eb83-4fc8-8dae-2d4816101836",
      "metadata": {
        "id": "b56d183b-eb83-4fc8-8dae-2d4816101836"
      },
      "source": [
        "#### 2.2.2 Check for outliers"
      ]
    },
    {
      "cell_type": "code",
      "execution_count": null,
      "id": "PSGcDNoCvCF9",
      "metadata": {
        "colab": {
          "base_uri": "https://localhost:8080/"
        },
        "id": "PSGcDNoCvCF9",
        "outputId": "6d2af593-bca8-492f-8b5e-d1d6bb05aafb"
      },
      "outputs": [
        {
          "name": "stdout",
          "output_type": "stream",
          "text": [
            "Index(['Date', 'Value'], dtype='object')\n"
          ]
        }
      ],
      "source": [
        "print(df.columns)"
      ]
    },
    {
      "cell_type": "code",
      "execution_count": null,
      "id": "r-L6l_LKuV2I",
      "metadata": {
        "id": "r-L6l_LKuV2I"
      },
      "outputs": [],
      "source": [
        "feature_df = df.drop('Date', axis=1)"
      ]
    },
    {
      "cell_type": "code",
      "execution_count": null,
      "id": "lpDUaGA-pqUq",
      "metadata": {
        "id": "lpDUaGA-pqUq"
      },
      "outputs": [],
      "source": [
        "rows, cols = 2, 2\n",
        "num_columns = len(feature_df.columns)\n",
        "num_plots = min(rows * cols, num_columns)"
      ]
    },
    {
      "cell_type": "code",
      "execution_count": null,
      "id": "mRb8tVpvoZDi",
      "metadata": {
        "colab": {
          "base_uri": "https://localhost:8080/",
          "height": 537
        },
        "id": "mRb8tVpvoZDi",
        "outputId": "a0153e1e-14de-415b-fea5-3d4be5b8d52c"
      },
      "outputs": [
        {
          "data": {
            "image/png": "[encoded data removed]",
            "text/plain": [
              "<Figure size 1200x1000 with 1 Axes>"
            ]
          },
          "metadata": {},
          "output_type": "display_data"
        }
      ],
      "source": [
        "fig, axes = plt.subplots(rows, cols, figsize=(12, 10))\n",
        "axes = axes.flatten()\n",
        "\n",
        "for i, column in enumerate(feature_df.columns[:rows * cols]):\n",
        "    feature_df.boxplot(column=column, ax=axes[i])\n",
        "    axes[i].set_title(f'Histogram of {column}')\n",
        "\n",
        "for j in range(num_plots, rows * cols):\n",
        "    fig.delaxes(axes[j])\n",
        "\n",
        "plt.tight_layout()\n",
        "plt.show()"
      ]
    },
    {
      "cell_type": "markdown",
      "id": "9nXWwEogrLUU",
      "metadata": {
        "id": "9nXWwEogrLUU"
      },
      "source": [
        "There are no outliers."
      ]
    },
    {
      "cell_type": "markdown",
      "id": "790d3b9f-1eca-4b2b-9969-bd3fcd27759c",
      "metadata": {
        "id": "790d3b9f-1eca-4b2b-9969-bd3fcd27759c"
      },
      "source": [
        "#### 2.2.3 Check for duplicates"
      ]
    },
    {
      "cell_type": "code",
      "execution_count": null,
      "id": "dCO2wme2rPwT",
      "metadata": {
        "colab": {
          "base_uri": "https://localhost:8080/"
        },
        "id": "dCO2wme2rPwT",
        "outputId": "12cf222d-8f6b-4cd6-9422-8ccf752d6b0d"
      },
      "outputs": [
        {
          "data": {
            "text/plain": [
              "np.int64(0)"
            ]
          },
          "execution_count": 13,
          "metadata": {},
          "output_type": "execute_result"
        }
      ],
      "source": [
        "df.duplicated().sum()"
      ]
    },
    {
      "cell_type": "markdown",
      "id": "Qxc4BO3RrWB6",
      "metadata": {
        "id": "Qxc4BO3RrWB6"
      },
      "source": [
        "There are no duplicate rows."
      ]
    },
    {
      "cell_type": "markdown",
      "id": "_xTda8Uar0bg",
      "metadata": {
        "id": "_xTda8Uar0bg"
      },
      "source": [
        "### 2.3 Exploratory data analysis"
      ]
    },
    {
      "cell_type": "markdown",
      "id": "5d3a270f-3583-4b75-aa34-b5211ab518be",
      "metadata": {
        "id": "5d3a270f-3583-4b75-aa34-b5211ab518be"
      },
      "source": [
        "#### 2.3.1 Check distributions of numeric variables"
      ]
    },
    {
      "cell_type": "code",
      "execution_count": null,
      "id": "_ZaWqoiEsSFn",
      "metadata": {
        "colab": {
          "base_uri": "https://localhost:8080/",
          "height": 537
        },
        "id": "_ZaWqoiEsSFn",
        "outputId": "99c982c3-5678-481e-e532-fc963566454f"
      },
      "outputs": [
        {
          "data": {
            "image/png": "[encoded data removed]",
            "text/plain": [
              "<Figure size 1200x1000 with 1 Axes>"
            ]
          },
          "metadata": {},
          "output_type": "display_data"
        }
      ],
      "source": [
        "fig, axes = plt.subplots(rows, cols, figsize=(12, 10))\n",
        "axes = axes.flatten()\n",
        "\n",
        "for i, column in enumerate(feature_df.columns[:rows * cols]):\n",
        "    feature_df.hist(column=column, ax=axes[i])\n",
        "    axes[i].set_title(f'Boxplot for {column}')\n",
        "\n",
        "for j in range(num_plots, rows * cols):\n",
        "    fig.delaxes(axes[j])\n",
        "\n",
        "plt.tight_layout()\n",
        "plt.show()"
      ]
    },
    {
      "cell_type": "markdown",
      "id": "YkuhMdHYzJdo",
      "metadata": {
        "id": "YkuhMdHYzJdo"
      },
      "source": [
        "The data is bimodal and skewed to the right."
      ]
    },
    {
      "cell_type": "markdown",
      "id": "4t6aFHEasxHF",
      "metadata": {
        "id": "4t6aFHEasxHF"
      },
      "source": [
        "#### 2.3.2 Check density of numeric variables"
      ]
    },
    {
      "cell_type": "code",
      "execution_count": null,
      "id": "8meNxK2ds2WT",
      "metadata": {
        "colab": {
          "base_uri": "https://localhost:8080/",
          "height": 274
        },
        "id": "8meNxK2ds2WT",
        "outputId": "51b68d14-7672-4321-f300-0df685078287"
      },
      "outputs": [
        {
          "data": {
            "image/png": "[encoded data removed]",
            "text/plain": [
              "<Figure size 1200x1000 with 16 Axes>"
            ]
          },
          "metadata": {},
          "output_type": "display_data"
        }
      ],
      "source": [
        "feature_df.plot(kind='density', subplots=True, layout=(4,4), figsize=(12,10), sharex=False)\n",
        "\n",
        "plt.tight_layout()\n",
        "plt.show()"
      ]
    },
    {
      "cell_type": "markdown",
      "id": "ef02ed81-cc15-4e3b-905f-8768fef3ba65",
      "metadata": {
        "id": "ef02ed81-cc15-4e3b-905f-8768fef3ba65"
      },
      "source": [
        "#### 2.3.3 Check corrleations of numeric variables"
      ]
    },
    {
      "cell_type": "markdown",
      "id": "TvnKkm2txK5X",
      "metadata": {
        "id": "TvnKkm2txK5X"
      },
      "source": [
        "There is only one feature in the dataset so there are no correlated features."
      ]
    },
    {
      "cell_type": "markdown",
      "id": "87e25d4d-b0a0-4c05-93e2-1c69736e860a",
      "metadata": {
        "id": "87e25d4d-b0a0-4c05-93e2-1c69736e860a"
      },
      "source": [
        "## 3.0 Data preprocessing"
      ]
    },
    {
      "cell_type": "markdown",
      "id": "ccb60f05-34df-43f7-9269-82ef1257061d",
      "metadata": {
        "id": "ccb60f05-34df-43f7-9269-82ef1257061d"
      },
      "source": [
        "### 3.1 Data cleansing"
      ]
    },
    {
      "cell_type": "markdown",
      "id": "ef082fbc-03c5-4fc1-957a-47eb898d32a5",
      "metadata": {
        "id": "ef082fbc-03c5-4fc1-957a-47eb898d32a5"
      },
      "source": [
        "#### 3.1.1 No missing values"
      ]
    },
    {
      "cell_type": "markdown",
      "id": "4152967a-6397-45f3-8a84-90b01c8257de",
      "metadata": {
        "id": "4152967a-6397-45f3-8a84-90b01c8257de"
      },
      "source": [
        "#### 3.1.2 No duplicate rows"
      ]
    },
    {
      "cell_type": "markdown",
      "id": "45affe4e-8773-4b07-8fb9-e9c4a448e2f6",
      "metadata": {
        "id": "45affe4e-8773-4b07-8fb9-e9c4a448e2f6"
      },
      "source": [
        "#### 3.1.1 No highly correlated features"
      ]
    },
    {
      "cell_type": "markdown",
      "id": "ff845811-ba7e-4ed8-94c0-b4fa104ae5e3",
      "metadata": {
        "id": "ff845811-ba7e-4ed8-94c0-b4fa104ae5e3"
      },
      "source": [
        "### 3.2 Feature engineering"
      ]
    },
    {
      "cell_type": "markdown",
      "id": "88e65dee-11a8-401d-b338-c3518b1651b6",
      "metadata": {
        "id": "88e65dee-11a8-401d-b338-c3518b1651b6"
      },
      "source": [
        "### 3.3 Data partitioning"
      ]
    },
    {
      "cell_type": "markdown",
      "id": "ca7a4947-e84c-46df-8eed-c7170cf00111",
      "metadata": {
        "id": "ca7a4947-e84c-46df-8eed-c7170cf00111"
      },
      "source": [
        "### 3.4 Data transformation"
      ]
    },
    {
      "cell_type": "markdown",
      "id": "ja-x87nIP1hf",
      "metadata": {
        "id": "ja-x87nIP1hf"
      },
      "source": [
        "#### 3.4.1 Parse dates as datetime"
      ]
    },
    {
      "cell_type": "code",
      "execution_count": null,
      "id": "qCdktCo8Pn03",
      "metadata": {
        "id": "qCdktCo8Pn03"
      },
      "outputs": [],
      "source": [
        "df['Date'] = pd.to_datetime(df['Date'])"
      ]
    },
    {
      "cell_type": "markdown",
      "id": "OmoCaMeLQAwc",
      "metadata": {
        "id": "OmoCaMeLQAwc"
      },
      "source": [
        "#### 3.4.2 Sort dates"
      ]
    },
    {
      "cell_type": "code",
      "execution_count": null,
      "id": "XFGpeZwrP_TA",
      "metadata": {
        "id": "XFGpeZwrP_TA"
      },
      "outputs": [],
      "source": [
        "df = df.sort_values('Date')"
      ]
    },
    {
      "cell_type": "markdown",
      "id": "4972890b-f3dc-4860-adf2-7fcd697721ec",
      "metadata": {
        "id": "4972890b-f3dc-4860-adf2-7fcd697721ec"
      },
      "source": [
        "### 3.5 Parameter identification"
      ]
    },
    {
      "cell_type": "markdown",
      "id": "b7050de7-c961-4a34-8635-3918ccba63ad",
      "metadata": {
        "id": "b7050de7-c961-4a34-8635-3918ccba63ad"
      },
      "source": [
        "#### 3.5.1 Determine number of clusters for k-means"
      ]
    },
    {
      "cell_type": "code",
      "execution_count": null,
      "id": "6xg3gKTR0HvQ",
      "metadata": {
        "colab": {
          "base_uri": "https://localhost:8080/",
          "height": 472
        },
        "id": "6xg3gKTR0HvQ",
        "outputId": "abca26ae-e972-4e46-fb46-2fa226c4e922"
      },
      "outputs": [
        {
          "data": {
            "image/png": "[encoded data removed]",
            "text/plain": [
              "<Figure size 640x480 with 1 Axes>"
            ]
          },
          "metadata": {},
          "output_type": "display_data"
        }
      ],
      "source": [
        "clusters_range = [2,3,4,5,6,7,8,9,10,11,12,13,14]\n",
        "inertias =[]\n",
        "\n",
        "for c in clusters_range:\n",
        "    kmeans = KMeans(n_clusters=c, random_state=0).fit(feature_df)\n",
        "    inertias.append(kmeans.inertia_)\n",
        "\n",
        "plt.figure()\n",
        "plt.title(\"Inertia vs. Number of Clusters\")\n",
        "plt.xlabel(\"Number of Clusters\")\n",
        "plt.ylabel(\"Inertia\")\n",
        "plt.plot(clusters_range,inertias, marker='o')\n",
        "plt.show()"
      ]
    },
    {
      "cell_type": "markdown",
      "id": "3R1l4D342pfM",
      "metadata": {
        "id": "3R1l4D342pfM"
      },
      "source": [
        "Based on the elbow method, four clusters are selected for k-means."
      ]
    },
    {
      "cell_type": "markdown",
      "id": "TPFx6tfK1frk",
      "metadata": {
        "id": "TPFx6tfK1frk"
      },
      "source": [
        "#### 3.5.2 Determine optimum epsilon and minimum saples for DBSCAN"
      ]
    },
    {
      "cell_type": "code",
      "execution_count": null,
      "id": "GEtn8WqO6rKw",
      "metadata": {
        "id": "GEtn8WqO6rKw"
      },
      "outputs": [],
      "source": [
        "x = feature_df.to_numpy()"
      ]
    },
    {
      "cell_type": "code",
      "execution_count": null,
      "id": "wU9JKACu7dGV",
      "metadata": {
        "id": "wU9JKACu7dGV"
      },
      "outputs": [],
      "source": [
        "# dbscan_cluster_model = DBSCAN(eps=0.2, min_samples=15).fit(x)\n",
        "# dbscan_cluster_model"
      ]
    },
    {
      "cell_type": "code",
      "execution_count": null,
      "id": "QYK1txCZ1rd8",
      "metadata": {
        "colab": {
          "base_uri": "https://localhost:8080/"
        },
        "id": "QYK1txCZ1rd8",
        "outputId": "9c051ecc-5363-439a-e495-e33486aa404b"
      },
      "outputs": [
        {
          "data": {
            "text/plain": [
              "array([0.01      , 0.08071429, 0.15142857, 0.22214286, 0.29285714,\n",
              "       0.36357143, 0.43428571, 0.505     , 0.57571429, 0.64642857,\n",
              "       0.71714286, 0.78785714, 0.85857143, 0.92928571, 1.        ])"
            ]
          },
          "execution_count": 21,
          "metadata": {},
          "output_type": "execute_result"
        }
      ],
      "source": [
        "epsilons  = np.linspace(0.01, 1, num = 15)\n",
        "epsilons"
      ]
    },
    {
      "cell_type": "code",
      "execution_count": null,
      "id": "2zQ7GGOx3uK7",
      "metadata": {
        "colab": {
          "base_uri": "https://localhost:8080/"
        },
        "id": "2zQ7GGOx3uK7",
        "outputId": "e7598d59-9c04-41aa-999e-558b2b815230"
      },
      "outputs": [
        {
          "data": {
            "text/plain": [
              "array([ 2,  5,  8, 11, 14, 17])"
            ]
          },
          "execution_count": 22,
          "metadata": {},
          "output_type": "execute_result"
        }
      ],
      "source": [
        "min_samples = np.arange(2, 20, step = 3)\n",
        "min_samples"
      ]
    },
    {
      "cell_type": "code",
      "execution_count": null,
      "id": "h0PVAPuK3opn",
      "metadata": {
        "colab": {
          "base_uri": "https://localhost:8080/"
        },
        "id": "h0PVAPuK3opn",
        "outputId": "934ddc4a-877d-4164-960e-f011605959e3"
      },
      "outputs": [
        {
          "data": {
            "text/plain": [
              "90"
            ]
          },
          "execution_count": 23,
          "metadata": {},
          "output_type": "execute_result"
        }
      ],
      "source": [
        "combinations = list (itertools.product(epsilons, min_samples))\n",
        "N = len(combinations)\n",
        "N"
      ]
    },
    {
      "cell_type": "code",
      "execution_count": null,
      "id": "O30WTbCJ5qJm",
      "metadata": {
        "colab": {
          "base_uri": "https://localhost:8080/"
        },
        "id": "O30WTbCJ5qJm",
        "outputId": "d591d4d0-7214-47cb-84bc-1d7c981c1a2c"
      },
      "outputs": [
        {
          "name": "stdout",
          "output_type": "stream",
          "text": [
            "Combination (np.float64(0.01), np.int64(2)) on iteration 1 of 90 has 2345 clusters. Moving on\n",
            "Combination (np.float64(0.01), np.int64(5)) on iteration 2 of 90 has 336 clusters. Moving on\n",
            "Index: 2, Score: -0.49164145665463405, Labels: [-1 -1 -1 ... -1 -1 -1], NumClusters: 56\n",
            "Index: 3, Score: -0.5152286893928911, Labels: [-1 -1 -1 ... -1 -1 -1], NumClusters: 13\n",
            "Index: 4, Score: -0.514613984362474, Labels: [-1 -1 -1 ... -1 -1 -1], NumClusters: 7\n",
            "Combination (np.float64(0.01), np.int64(17)) on iteration 6 of 90 has 1 clusters. Moving on\n",
            "Combination (np.float64(0.08071428571428571), np.int64(2)) on iteration 7 of 90 has 1717 clusters. Moving on\n",
            "Combination (np.float64(0.08071428571428571), np.int64(5)) on iteration 8 of 90 has 486 clusters. Moving on\n",
            "Combination (np.float64(0.08071428571428571), np.int64(8)) on iteration 9 of 90 has 225 clusters. Moving on\n",
            "Index: 9, Score: -0.35441566271322955, Labels: [-1 -1 -1 ... -1 -1 -1], NumClusters: 87\n",
            "Index: 10, Score: -0.45595401002458097, Labels: [-1 -1 -1 ... -1 -1 -1], NumClusters: 38\n",
            "Index: 11, Score: -0.4806758361045175, Labels: [-1 -1 -1 ... -1 -1 -1], NumClusters: 15\n",
            "Combination (np.float64(0.15142857142857144), np.int64(2)) on iteration 13 of 90 has 1036 clusters. Moving on\n",
            "Combination (np.float64(0.15142857142857144), np.int64(5)) on iteration 14 of 90 has 269 clusters. Moving on\n",
            "Combination (np.float64(0.15142857142857144), np.int64(8)) on iteration 15 of 90 has 152 clusters. Moving on\n",
            "Combination (np.float64(0.15142857142857144), np.int64(11)) on iteration 16 of 90 has 140 clusters. Moving on\n",
            "Combination (np.float64(0.15142857142857144), np.int64(14)) on iteration 17 of 90 has 121 clusters. Moving on\n",
            "Index: 17, Score: -0.16959754120307746, Labels: [-1 -1 -1 ... -1 -1 -1], NumClusters: 89\n",
            "Combination (np.float64(0.22214285714285714), np.int64(2)) on iteration 19 of 90 has 913 clusters. Moving on\n",
            "Combination (np.float64(0.22214285714285714), np.int64(5)) on iteration 20 of 90 has 246 clusters. Moving on\n",
            "Combination (np.float64(0.22214285714285714), np.int64(8)) on iteration 21 of 90 has 123 clusters. Moving on\n",
            "Combination (np.float64(0.22214285714285714), np.int64(11)) on iteration 22 of 90 has 109 clusters. Moving on\n",
            "Index: 22, Score: 0.09745445808175779, Labels: [-1 -1 -1 ... -1 -1 -1], NumClusters: 91\n",
            "Index: 23, Score: -0.007552742736228181, Labels: [-1 -1 -1 ... -1 -1 -1], NumClusters: 77\n",
            "Combination (np.float64(0.29285714285714287), np.int64(2)) on iteration 25 of 90 has 765 clusters. Moving on\n",
            "Combination (np.float64(0.29285714285714287), np.int64(5)) on iteration 26 of 90 has 244 clusters. Moving on\n",
            "Combination (np.float64(0.29285714285714287), np.int64(8)) on iteration 27 of 90 has 112 clusters. Moving on\n",
            "Index: 27, Score: -0.2258078944214749, Labels: [-1 -1 -1 ... -1 -1 -1], NumClusters: 76\n",
            "Index: 28, Score: -0.14925172215394378, Labels: [-1 -1 -1 ... -1 -1 -1], NumClusters: 66\n",
            "Index: 29, Score: 0.11613600207879018, Labels: [-1 -1 -1 ... -1 -1 -1], NumClusters: 70\n",
            "Combination (np.float64(0.3635714285714286), np.int64(2)) on iteration 31 of 90 has 662 clusters. Moving on\n",
            "Combination (np.float64(0.3635714285714286), np.int64(5)) on iteration 32 of 90 has 214 clusters. Moving on\n",
            "Combination (np.float64(0.3635714285714286), np.int64(8)) on iteration 33 of 90 has 111 clusters. Moving on\n",
            "Index: 33, Score: -0.1805206723556189, Labels: [-1 -1 -1 ... -1 -1 -1], NumClusters: 68\n",
            "Index: 34, Score: -0.17147100125173598, Labels: [-1 -1 -1 ... -1 -1 -1], NumClusters: 45\n",
            "Index: 35, Score: -0.20866038081715435, Labels: [-1 -1 -1 ... -1 -1 -1], NumClusters: 43\n",
            "Combination (np.float64(0.4342857142857143), np.int64(2)) on iteration 37 of 90 has 611 clusters. Moving on\n",
            "Combination (np.float64(0.4342857142857143), np.int64(5)) on iteration 38 of 90 has 193 clusters. Moving on\n",
            "Combination (np.float64(0.4342857142857143), np.int64(8)) on iteration 39 of 90 has 115 clusters. Moving on\n",
            "Index: 39, Score: -0.16892115332944335, Labels: [-1 -1 -1 ... -1 -1 -1], NumClusters: 68\n",
            "Index: 40, Score: -0.15453571273531402, Labels: [-1 -1 -1 ... -1 -1 -1], NumClusters: 43\n",
            "Index: 41, Score: -0.18878963229033063, Labels: [-1 -1 -1 ... -1 -1 -1], NumClusters: 38\n",
            "Combination (np.float64(0.505), np.int64(2)) on iteration 43 of 90 has 454 clusters. Moving on\n",
            "Combination (np.float64(0.505), np.int64(5)) on iteration 44 of 90 has 195 clusters. Moving on\n",
            "Combination (np.float64(0.505), np.int64(8)) on iteration 45 of 90 has 103 clusters. Moving on\n",
            "Index: 45, Score: -0.030630876738492314, Labels: [-1 -1 -1 ... -1 -1 -1], NumClusters: 75\n",
            "Index: 46, Score: -0.1792697988988612, Labels: [-1 -1 -1 ... -1 -1 -1], NumClusters: 45\n",
            "Index: 47, Score: -0.22429114420513377, Labels: [-1 -1 -1 ... -1 -1 -1], NumClusters: 27\n",
            "Combination (np.float64(0.5757142857142857), np.int64(2)) on iteration 49 of 90 has 440 clusters. Moving on\n",
            "Combination (np.float64(0.5757142857142857), np.int64(5)) on iteration 50 of 90 has 185 clusters. Moving on\n",
            "Index: 50, Score: -0.03989222515927774, Labels: [-1 -1 -1 ... -1 -1 -1], NumClusters: 95\n",
            "Index: 51, Score: -0.09012667339774942, Labels: [-1 -1 -1 ... -1 -1 -1], NumClusters: 68\n",
            "Index: 52, Score: -0.08071516223382635, Labels: [-1 -1 -1 ... -1 -1 -1], NumClusters: 46\n",
            "Index: 53, Score: -0.21960545963736505, Labels: [-1 -1 -1 ... -1 -1 -1], NumClusters: 28\n",
            "Combination (np.float64(0.6464285714285715), np.int64(2)) on iteration 55 of 90 has 427 clusters. Moving on\n",
            "Combination (np.float64(0.6464285714285715), np.int64(5)) on iteration 56 of 90 has 181 clusters. Moving on\n",
            "Index: 56, Score: -0.041178506844687955, Labels: [-1 -1 -1 ... -1 -1 -1], NumClusters: 91\n",
            "Index: 57, Score: -0.08451017108101816, Labels: [-1 -1 -1 ... -1 -1 -1], NumClusters: 65\n",
            "Index: 58, Score: -0.17490733426625824, Labels: [-1 -1 -1 ... -1 -1 -1], NumClusters: 46\n",
            "Index: 59, Score: -0.10714904451414334, Labels: [-1 -1 -1 ... -1 -1 -1], NumClusters: 25\n",
            "Combination (np.float64(0.7171428571428572), np.int64(2)) on iteration 61 of 90 has 399 clusters. Moving on\n",
            "Combination (np.float64(0.7171428571428572), np.int64(5)) on iteration 62 of 90 has 169 clusters. Moving on\n",
            "Index: 62, Score: -0.015501122333517324, Labels: [-1 -1 -1 ... -1 -1 -1], NumClusters: 84\n",
            "Index: 63, Score: -0.06308983572437937, Labels: [-1 -1 -1 ... -1 -1 -1], NumClusters: 63\n",
            "Index: 64, Score: -0.06984635284692466, Labels: [-1 -1 -1 ... -1 -1 -1], NumClusters: 47\n",
            "Index: 65, Score: -0.164072200358474, Labels: [-1 -1 -1 ... -1 -1 -1], NumClusters: 35\n",
            "Combination (np.float64(0.7878571428571429), np.int64(2)) on iteration 67 of 90 has 310 clusters. Moving on\n",
            "Combination (np.float64(0.7878571428571429), np.int64(5)) on iteration 68 of 90 has 156 clusters. Moving on\n",
            "Index: 68, Score: 0.010025242137489574, Labels: [-1 -1 -1 ... -1 -1 -1], NumClusters: 88\n",
            "Index: 69, Score: -0.0361113803550475, Labels: [-1 -1 -1 ... -1 -1 -1], NumClusters: 54\n",
            "Index: 70, Score: -0.06607770950817154, Labels: [-1 -1 -1 ... -1 -1 -1], NumClusters: 46\n",
            "Index: 71, Score: -0.1021069138787842, Labels: [-1 -1 -1 ... -1 -1 -1], NumClusters: 40\n",
            "Combination (np.float64(0.8585714285714285), np.int64(2)) on iteration 73 of 90 has 291 clusters. Moving on\n",
            "Combination (np.float64(0.8585714285714285), np.int64(5)) on iteration 74 of 90 has 146 clusters. Moving on\n",
            "Index: 74, Score: 0.02511931831740153, Labels: [-1 -1 -1 ... -1 -1 -1], NumClusters: 85\n",
            "Index: 75, Score: -0.05139748268084312, Labels: [-1 -1 -1 ... -1 -1 -1], NumClusters: 47\n",
            "Index: 76, Score: -0.05230263523111338, Labels: [-1 -1 -1 ... -1 -1 -1], NumClusters: 43\n",
            "Index: 77, Score: -0.06827627588251745, Labels: [-1 -1 -1 ... -1 -1 -1], NumClusters: 42\n",
            "Combination (np.float64(0.9292857142857143), np.int64(2)) on iteration 79 of 90 has 283 clusters. Moving on\n",
            "Combination (np.float64(0.9292857142857143), np.int64(5)) on iteration 80 of 90 has 148 clusters. Moving on\n",
            "Index: 80, Score: -0.03183092870729355, Labels: [-1 -1 -1 ... -1 -1 -1], NumClusters: 82\n",
            "Index: 81, Score: -0.048224788395902364, Labels: [-1 -1 -1 ... -1 -1 -1], NumClusters: 49\n",
            "Index: 82, Score: -0.04391999525845788, Labels: [-1 -1 -1 ... -1 -1 -1], NumClusters: 45\n",
            "Index: 83, Score: -0.05283180102123871, Labels: [-1 -1 -1 ... -1 -1 -1], NumClusters: 43\n",
            "Combination (np.float64(1.0), np.int64(2)) on iteration 85 of 90 has 195 clusters. Moving on\n",
            "Combination (np.float64(1.0), np.int64(5)) on iteration 86 of 90 has 121 clusters. Moving on\n",
            "Index: 86, Score: 0.03798751881586602, Labels: [-1 -1 -1 ... 77 -1 -1], NumClusters: 90\n",
            "Index: 87, Score: -0.03620823188659317, Labels: [-1 -1 -1 ... -1 -1 -1], NumClusters: 47\n",
            "Index: 88, Score: -0.06189256958625971, Labels: [-1 -1 -1 ... -1 -1 -1], NumClusters: 35\n",
            "Index: 89, Score: -0.016549565367297247, Labels: [-1 -1 -1 ... -1 -1 -1], NumClusters: 35\n"
          ]
        }
      ],
      "source": [
        "def get_scores_and_labels(combinations, x):\n",
        "  scores = []\n",
        "  all_labels_list = []\n",
        "\n",
        "  for i, (eps, num_samples) in enumerate(combinations):\n",
        "    dbscan_cluster_model = DBSCAN(eps=eps, min_samples=num_samples).fit(x)\n",
        "    labels = dbscan_cluster_model.labels_\n",
        "    labels_set = set(labels)\n",
        "    num_clusters = len(labels_set)\n",
        "    if -1 in labels_set:\n",
        "      num_clusters -= 1\n",
        "\n",
        "    if (num_clusters < 2) or (num_clusters > 100):\n",
        "      scores.append(-10)\n",
        "      all_labels_list.append('bad')\n",
        "      c = (eps, num_samples)\n",
        "      print(f\"Combination {c} on iteration {i+1} of {N} has {num_clusters} clusters. Moving on\")\n",
        "      continue\n",
        "\n",
        "    scores.append(ss(x, labels))\n",
        "    all_labels_list.append(labels)\n",
        "    print(f\"Index: {i}, Score: {scores[-1]}, Labels: {all_labels_list[-1]}, NumClusters: {num_clusters}\")\n",
        "\n",
        "  best_index = np.argmax(scores)\n",
        "  best_parameters = combinations[best_index]\n",
        "  best_score = scores[best_index]\n",
        "  best_labels = all_labels_list[best_index]\n",
        "\n",
        "  return {'best_epsilon': best_parameters[0], 'best_min_samples': best_parameters[1], 'best_score': best_score, 'best_labels': best_labels}\n",
        "\n",
        "best_dict = get_scores_and_labels(combinations, x)"
      ]
    },
    {
      "cell_type": "code",
      "execution_count": null,
      "id": "ULdCNFK88JbJ",
      "metadata": {
        "colab": {
          "base_uri": "https://localhost:8080/"
        },
        "id": "ULdCNFK88JbJ",
        "outputId": "c24e7300-c171-45c9-fafb-bc97165446d6"
      },
      "outputs": [
        {
          "data": {
            "text/plain": [
              "{'best_epsilon': np.float64(0.29285714285714287),\n",
              " 'best_min_samples': np.int64(17),\n",
              " 'best_score': np.float64(0.11613600207879018),\n",
              " 'best_labels': array([-1, -1, -1, ..., -1, -1, -1])}"
            ]
          },
          "execution_count": 25,
          "metadata": {},
          "output_type": "execute_result"
        }
      ],
      "source": [
        "best_dict"
      ]
    },
    {
      "cell_type": "code",
      "execution_count": null,
      "id": "yylv2DOt8ii0",
      "metadata": {
        "id": "yylv2DOt8ii0"
      },
      "outputs": [],
      "source": [
        "df['cluster'] = best_dict['best_labels']"
      ]
    },
    {
      "cell_type": "code",
      "execution_count": null,
      "id": "WFaI934r8pRf",
      "metadata": {
        "colab": {
          "base_uri": "https://localhost:8080/",
          "height": 489
        },
        "id": "WFaI934r8pRf",
        "outputId": "629bf26d-19af-4222-dfec-f9cefa19012c"
      },
      "outputs": [
        {
          "data": {
            "text/html": [
              "<div>\n",
              "<style scoped>\n",
              "    .dataframe tbody tr th:only-of-type {\n",
              "        vertical-align: middle;\n",
              "    }\n",
              "\n",
              "    .dataframe tbody tr th {\n",
              "        vertical-align: top;\n",
              "    }\n",
              "\n",
              "    .dataframe thead th {\n",
              "        text-align: right;\n",
              "    }\n",
              "</style>\n",
              "<table border=\"1\" class=\"dataframe\">\n",
              "  <thead>\n",
              "    <tr style=\"text-align: right;\">\n",
              "      <th></th>\n",
              "      <th>count</th>\n",
              "    </tr>\n",
              "    <tr>\n",
              "      <th>cluster</th>\n",
              "      <th></th>\n",
              "    </tr>\n",
              "  </thead>\n",
              "  <tbody>\n",
              "    <tr>\n",
              "      <th>-1</th>\n",
              "      <td>5624</td>\n",
              "    </tr>\n",
              "    <tr>\n",
              "      <th>21</th>\n",
              "      <td>1432</td>\n",
              "    </tr>\n",
              "    <tr>\n",
              "      <th>18</th>\n",
              "      <td>372</td>\n",
              "    </tr>\n",
              "    <tr>\n",
              "      <th>19</th>\n",
              "      <td>232</td>\n",
              "    </tr>\n",
              "    <tr>\n",
              "      <th>22</th>\n",
              "      <td>212</td>\n",
              "    </tr>\n",
              "    <tr>\n",
              "      <th>...</th>\n",
              "      <td>...</td>\n",
              "    </tr>\n",
              "    <tr>\n",
              "      <th>48</th>\n",
              "      <td>17</td>\n",
              "    </tr>\n",
              "    <tr>\n",
              "      <th>54</th>\n",
              "      <td>17</td>\n",
              "    </tr>\n",
              "    <tr>\n",
              "      <th>69</th>\n",
              "      <td>17</td>\n",
              "    </tr>\n",
              "    <tr>\n",
              "      <th>63</th>\n",
              "      <td>12</td>\n",
              "    </tr>\n",
              "    <tr>\n",
              "      <th>64</th>\n",
              "      <td>9</td>\n",
              "    </tr>\n",
              "  </tbody>\n",
              "</table>\n",
              "<p>71 rows × 1 columns</p>\n",
              "</div><br><label><b>dtype:</b> int64</label>"
            ],
            "text/plain": [
              "cluster\n",
              "-1     5624\n",
              " 21    1432\n",
              " 18     372\n",
              " 19     232\n",
              " 22     212\n",
              "       ... \n",
              " 48      17\n",
              " 54      17\n",
              " 69      17\n",
              " 63      12\n",
              " 64       9\n",
              "Name: count, Length: 71, dtype: int64"
            ]
          },
          "execution_count": 27,
          "metadata": {},
          "output_type": "execute_result"
        }
      ],
      "source": [
        "df['cluster'].value_counts()"
      ]
    },
    {
      "cell_type": "markdown",
      "id": "e0be9878-46f4-42e8-9f20-11e5c94bad15",
      "metadata": {
        "id": "e0be9878-46f4-42e8-9f20-11e5c94bad15"
      },
      "source": [
        "## 3.0 Modeling"
      ]
    },
    {
      "cell_type": "markdown",
      "id": "2f5227d2-2bf1-4863-a390-c155b0c90f13",
      "metadata": {
        "id": "2f5227d2-2bf1-4863-a390-c155b0c90f13"
      },
      "source": [
        "### 3.1 K-means and DBSCAN models of gold prices"
      ]
    },
    {
      "cell_type": "markdown",
      "id": "pK9JYrxzOm_W",
      "metadata": {
        "id": "pK9JYrxzOm_W"
      },
      "source": [
        "#### 3.1.1 Functions for gold price analysis"
      ]
    },
    {
      "cell_type": "code",
      "execution_count": null,
      "id": "fzJouuQsApp1",
      "metadata": {
        "id": "fzJouuQsApp1"
      },
      "outputs": [],
      "source": [
        "data_gold = feature_df.to_numpy()"
      ]
    },
    {
      "cell_type": "code",
      "execution_count": null,
      "id": "7TXDr48e5Qjn",
      "metadata": {
        "id": "7TXDr48e5Qjn"
      },
      "outputs": [],
      "source": [
        "def label_generation(data_gold, var_eps, var_samples, var_clusters):\n",
        "  kmeans_labels = KMeans(n_clusters=var_clusters, random_state=42).fit_predict(data_gold)\n",
        "  dbscan_labels = DBSCAN(eps=var_eps, min_samples=var_samples).fit_predict(data_gold)\n",
        "  return kmeans_labels, dbscan_labels"
      ]
    },
    {
      "cell_type": "code",
      "execution_count": null,
      "id": "qGXyU8lpCV2-",
      "metadata": {
        "id": "qGXyU8lpCV2-"
      },
      "outputs": [],
      "source": [
        "def cluster_plotting(data, kmeans_labels, dbscan_labels, title):\n",
        "    plt.figure(figsize=(18, 6))\n",
        "    plt.subplot(1, 2, 1)\n",
        "    plt.scatter(data, np.zeros_like(data), c=kmeans_labels)\n",
        "    plt.title('K-Means Clustering')\n",
        "    plt.subplot(1, 2, 2)\n",
        "    plt.scatter(data, np.zeros_like(data), c=dbscan_labels)\n",
        "    plt.title('DBSCAN Clustering')\n",
        "    plt.suptitle(title)\n",
        "    plt.show()"
      ]
    },
    {
      "cell_type": "markdown",
      "id": "Nuws2MaQOxCM",
      "metadata": {
        "id": "Nuws2MaQOxCM"
      },
      "source": [
        "#### 3.1.2 Parameter settings and label generation"
      ]
    },
    {
      "cell_type": "code",
      "execution_count": null,
      "id": "8hIndw8FBt9E",
      "metadata": {
        "id": "8hIndw8FBt9E"
      },
      "outputs": [],
      "source": [
        "var_eps = 0.292857\n",
        "var_samples = 17\n",
        "var_clusters = 4"
      ]
    },
    {
      "cell_type": "code",
      "execution_count": null,
      "id": "r1LT5W2yA7mu",
      "metadata": {
        "id": "r1LT5W2yA7mu"
      },
      "outputs": [],
      "source": [
        "kmeans_labels, dbscan_labels = label_generation(data_gold, var_eps, var_samples, var_clusters)"
      ]
    },
    {
      "cell_type": "markdown",
      "id": "0pjATrO_C7OB",
      "metadata": {
        "id": "0pjATrO_C7OB"
      },
      "source": [
        "#### 3.1.3 Cluster plots"
      ]
    },
    {
      "cell_type": "code",
      "execution_count": null,
      "id": "8mxiS722B3yh",
      "metadata": {
        "colab": {
          "base_uri": "https://localhost:8080/",
          "height": 582
        },
        "id": "8mxiS722B3yh",
        "outputId": "fb6ef509-3085-463b-dbc9-1f7536c1cd4f"
      },
      "outputs": [
        {
          "data": {
            "image/png": "[encoded data removed]",
            "text/plain": [
              "<Figure size 1800x600 with 2 Axes>"
            ]
          },
          "metadata": {},
          "output_type": "display_data"
        }
      ],
      "source": [
        "cluster_plotting(data_gold, kmeans_labels, dbscan_labels, 'Cluster Plots')"
      ]
    },
    {
      "cell_type": "markdown",
      "id": "Ls6PumH5DPRF",
      "metadata": {
        "id": "Ls6PumH5DPRF"
      },
      "source": [
        "#### 3.1.4 Append labels to dataframe"
      ]
    },
    {
      "cell_type": "code",
      "execution_count": null,
      "id": "_9hVwBDxEq_E",
      "metadata": {
        "colab": {
          "base_uri": "https://localhost:8080/",
          "height": 423
        },
        "id": "_9hVwBDxEq_E",
        "outputId": "9d350cd2-95ea-40b0-e0b5-cd8932307bf0"
      },
      "outputs": [
        {
          "data": {
            "application/vnd.google.colaboratory.intrinsic+json": {
              "summary": "{\n  \"name\": \"df\",\n  \"rows\": 10787,\n  \"fields\": [\n    {\n      \"column\": \"Date\",\n      \"properties\": {\n        \"dtype\": \"date\",\n        \"min\": \"1970-01-01 00:00:00\",\n        \"max\": \"2020-03-13 00:00:00\",\n        \"num_unique_values\": 10787,\n        \"samples\": [\n          \"2012-03-16 00:00:00\",\n          \"2019-02-18 00:00:00\",\n          \"1992-09-16 00:00:00\"\n        ],\n        \"semantic_type\": \"\",\n        \"description\": \"\"\n      }\n    },\n    {\n      \"column\": \"Value\",\n      \"properties\": {\n        \"dtype\": \"number\",\n        \"std\": 434.03084750601806,\n        \"min\": 35.1,\n        \"max\": 1895.0,\n        \"num_unique_values\": 5901,\n        \"samples\": [\n          790.25,\n          1290.35,\n          1212.85\n        ],\n        \"semantic_type\": \"\",\n        \"description\": \"\"\n      }\n    },\n    {\n      \"column\": \"cluster\",\n      \"properties\": {\n        \"dtype\": \"number\",\n        \"std\": 16,\n        \"min\": -1,\n        \"max\": 69,\n        \"num_unique_values\": 71,\n        \"samples\": [\n          16,\n          -1,\n          37\n        ],\n        \"semantic_type\": \"\",\n        \"description\": \"\"\n      }\n    },\n    {\n      \"column\": \"db_cluster\",\n      \"properties\": {\n        \"dtype\": \"number\",\n        \"std\": 16,\n        \"min\": -1,\n        \"max\": 69,\n        \"num_unique_values\": 71,\n        \"samples\": [\n          16,\n          -1,\n          37\n        ],\n        \"semantic_type\": \"\",\n        \"description\": \"\"\n      }\n    }\n  ]\n}",
              "type": "dataframe",
              "variable_name": "df"
            },
            "text/html": [
              "\n",
              "  <div id=\"df-8722f4b2-4ba7-4726-bd89-d59f6c50a090\" class=\"colab-df-container\">\n",
              "    <div>\n",
              "<style scoped>\n",
              "    .dataframe tbody tr th:only-of-type {\n",
              "        vertical-align: middle;\n",
              "    }\n",
              "\n",
              "    .dataframe tbody tr th {\n",
              "        vertical-align: top;\n",
              "    }\n",
              "\n",
              "    .dataframe thead th {\n",
              "        text-align: right;\n",
              "    }\n",
              "</style>\n",
              "<table border=\"1\" class=\"dataframe\">\n",
              "  <thead>\n",
              "    <tr style=\"text-align: right;\">\n",
              "      <th></th>\n",
              "      <th>Date</th>\n",
              "      <th>Value</th>\n",
              "      <th>cluster</th>\n",
              "      <th>db_cluster</th>\n",
              "    </tr>\n",
              "  </thead>\n",
              "  <tbody>\n",
              "    <tr>\n",
              "      <th>0</th>\n",
              "      <td>1970-01-01</td>\n",
              "      <td>35.20</td>\n",
              "      <td>-1</td>\n",
              "      <td>-1</td>\n",
              "    </tr>\n",
              "    <tr>\n",
              "      <th>1</th>\n",
              "      <td>1970-04-01</td>\n",
              "      <td>35.10</td>\n",
              "      <td>-1</td>\n",
              "      <td>-1</td>\n",
              "    </tr>\n",
              "    <tr>\n",
              "      <th>2</th>\n",
              "      <td>1970-07-01</td>\n",
              "      <td>35.40</td>\n",
              "      <td>-1</td>\n",
              "      <td>-1</td>\n",
              "    </tr>\n",
              "    <tr>\n",
              "      <th>3</th>\n",
              "      <td>1970-10-01</td>\n",
              "      <td>36.20</td>\n",
              "      <td>-1</td>\n",
              "      <td>-1</td>\n",
              "    </tr>\n",
              "    <tr>\n",
              "      <th>4</th>\n",
              "      <td>1971-01-01</td>\n",
              "      <td>37.40</td>\n",
              "      <td>-1</td>\n",
              "      <td>-1</td>\n",
              "    </tr>\n",
              "    <tr>\n",
              "      <th>...</th>\n",
              "      <td>...</td>\n",
              "      <td>...</td>\n",
              "      <td>...</td>\n",
              "      <td>...</td>\n",
              "    </tr>\n",
              "    <tr>\n",
              "      <th>10782</th>\n",
              "      <td>2020-03-09</td>\n",
              "      <td>1672.50</td>\n",
              "      <td>-1</td>\n",
              "      <td>-1</td>\n",
              "    </tr>\n",
              "    <tr>\n",
              "      <th>10783</th>\n",
              "      <td>2020-03-10</td>\n",
              "      <td>1655.70</td>\n",
              "      <td>-1</td>\n",
              "      <td>-1</td>\n",
              "    </tr>\n",
              "    <tr>\n",
              "      <th>10784</th>\n",
              "      <td>2020-03-11</td>\n",
              "      <td>1653.75</td>\n",
              "      <td>-1</td>\n",
              "      <td>-1</td>\n",
              "    </tr>\n",
              "    <tr>\n",
              "      <th>10785</th>\n",
              "      <td>2020-03-12</td>\n",
              "      <td>1570.70</td>\n",
              "      <td>-1</td>\n",
              "      <td>-1</td>\n",
              "    </tr>\n",
              "    <tr>\n",
              "      <th>10786</th>\n",
              "      <td>2020-03-13</td>\n",
              "      <td>1562.80</td>\n",
              "      <td>-1</td>\n",
              "      <td>-1</td>\n",
              "    </tr>\n",
              "  </tbody>\n",
              "</table>\n",
              "<p>10787 rows × 4 columns</p>\n",
              "</div>\n",
              "    <div class=\"colab-df-buttons\">\n",
              "\n",
              "  <div class=\"colab-df-container\">\n",
              "    <button class=\"colab-df-convert\" onclick=\"convertToInteractive('df-8722f4b2-4ba7-4726-bd89-d59f6c50a090')\"\n",
              "            title=\"Convert this dataframe to an interactive table.\"\n",
              "            style=\"display:none;\">\n",
              "\n",
              "  <svg xmlns=\"http://www.w3.org/2000/svg\" height=\"24px\" viewBox=\"0 -960 960 960\">\n",
              "    <path d=\"M120-120v-720h720v720H120Zm60-500h600v-160H180v160Zm220 220h160v-160H400v160Zm0 220h160v-160H400v160ZM180-400h160v-160H180v160Zm440 0h160v-160H620v160ZM180-180h160v-160H180v160Zm440 0h160v-160H620v160Z\"/>\n",
              "  </svg>\n",
              "    </button>\n",
              "\n",
              "  <style>\n",
              "    .colab-df-container {\n",
              "      display:flex;\n",
              "      gap: 12px;\n",
              "    }\n",
              "\n",
              "    .colab-df-convert {\n",
              "      background-color: #E8F0FE;\n",
              "      border: none;\n",
              "      border-radius: 50%;\n",
              "      cursor: pointer;\n",
              "      display: none;\n",
              "      fill: #1967D2;\n",
              "      height: 32px;\n",
              "      padding: 0 0 0 0;\n",
              "      width: 32px;\n",
              "    }\n",
              "\n",
              "    .colab-df-convert:hover {\n",
              "      background-color: #E2EBFA;\n",
              "      box-shadow: 0px 1px 2px rgba(60, 64, 67, 0.3), 0px 1px 3px 1px rgba(60, 64, 67, 0.15);\n",
              "      fill: #174EA6;\n",
              "    }\n",
              "\n",
              "    .colab-df-buttons div {\n",
              "      margin-bottom: 4px;\n",
              "    }\n",
              "\n",
              "    [theme=dark] .colab-df-convert {\n",
              "      background-color: #3B4455;\n",
              "      fill: #D2E3FC;\n",
              "    }\n",
              "\n",
              "    [theme=dark] .colab-df-convert:hover {\n",
              "      background-color: #434B5C;\n",
              "      box-shadow: 0px 1px 3px 1px rgba(0, 0, 0, 0.15);\n",
              "      filter: drop-shadow(0px 1px 2px rgba(0, 0, 0, 0.3));\n",
              "      fill: #FFFFFF;\n",
              "    }\n",
              "  </style>\n",
              "\n",
              "    <script>\n",
              "      const buttonEl =\n",
              "        document.querySelector('#df-8722f4b2-4ba7-4726-bd89-d59f6c50a090 button.colab-df-convert');\n",
              "      buttonEl.style.display =\n",
              "        google.colab.kernel.accessAllowed ? 'block' : 'none';\n",
              "\n",
              "      async function convertToInteractive(key) {\n",
              "        const element = document.querySelector('#df-8722f4b2-4ba7-4726-bd89-d59f6c50a090');\n",
              "        const dataTable =\n",
              "          await google.colab.kernel.invokeFunction('convertToInteractive',\n",
              "                                                    [key], {});\n",
              "        if (!dataTable) return;\n",
              "\n",
              "        const docLinkHtml = 'Like what you see? Visit the ' +\n",
              "          '<a target=\"_blank\" href=https://colab.research.google.com/notebooks/data_table.ipynb>data table notebook</a>'\n",
              "          + ' to learn more about interactive tables.';\n",
              "        element.innerHTML = '';\n",
              "        dataTable['output_type'] = 'display_data';\n",
              "        await google.colab.output.renderOutput(dataTable, element);\n",
              "        const docLink = document.createElement('div');\n",
              "        docLink.innerHTML = docLinkHtml;\n",
              "        element.appendChild(docLink);\n",
              "      }\n",
              "    </script>\n",
              "  </div>\n",
              "\n",
              "\n",
              "    <div id=\"df-c91980ef-0874-4e2e-94ff-285bfa56e7d4\">\n",
              "      <button class=\"colab-df-quickchart\" onclick=\"quickchart('df-c91980ef-0874-4e2e-94ff-285bfa56e7d4')\"\n",
              "                title=\"Suggest charts\"\n",
              "                style=\"display:none;\">\n",
              "\n",
              "<svg xmlns=\"http://www.w3.org/2000/svg\" height=\"24px\"viewBox=\"0 0 24 24\"\n",
              "     width=\"24px\">\n",
              "    <g>\n",
              "        <path d=\"M19 3H5c-1.1 0-2 .9-2 2v14c0 1.1.9 2 2 2h14c1.1 0 2-.9 2-2V5c0-1.1-.9-2-2-2zM9 17H7v-7h2v7zm4 0h-2V7h2v10zm4 0h-2v-4h2v4z\"/>\n",
              "    </g>\n",
              "</svg>\n",
              "      </button>\n",
              "\n",
              "<style>\n",
              "  .colab-df-quickchart {\n",
              "      --bg-color: #E8F0FE;\n",
              "      --fill-color: #1967D2;\n",
              "      --hover-bg-color: #E2EBFA;\n",
              "      --hover-fill-color: #174EA6;\n",
              "      --disabled-fill-color: #AAA;\n",
              "      --disabled-bg-color: #DDD;\n",
              "  }\n",
              "\n",
              "  [theme=dark] .colab-df-quickchart {\n",
              "      --bg-color: #3B4455;\n",
              "      --fill-color: #D2E3FC;\n",
              "      --hover-bg-color: #434B5C;\n",
              "      --hover-fill-color: #FFFFFF;\n",
              "      --disabled-bg-color: #3B4455;\n",
              "      --disabled-fill-color: #666;\n",
              "  }\n",
              "\n",
              "  .colab-df-quickchart {\n",
              "    background-color: var(--bg-color);\n",
              "    border: none;\n",
              "    border-radius: 50%;\n",
              "    cursor: pointer;\n",
              "    display: none;\n",
              "    fill: var(--fill-color);\n",
              "    height: 32px;\n",
              "    padding: 0;\n",
              "    width: 32px;\n",
              "  }\n",
              "\n",
              "  .colab-df-quickchart:hover {\n",
              "    background-color: var(--hover-bg-color);\n",
              "    box-shadow: 0 1px 2px rgba(60, 64, 67, 0.3), 0 1px 3px 1px rgba(60, 64, 67, 0.15);\n",
              "    fill: var(--button-hover-fill-color);\n",
              "  }\n",
              "\n",
              "  .colab-df-quickchart-complete:disabled,\n",
              "  .colab-df-quickchart-complete:disabled:hover {\n",
              "    background-color: var(--disabled-bg-color);\n",
              "    fill: var(--disabled-fill-color);\n",
              "    box-shadow: none;\n",
              "  }\n",
              "\n",
              "  .colab-df-spinner {\n",
              "    border: 2px solid var(--fill-color);\n",
              "    border-color: transparent;\n",
              "    border-bottom-color: var(--fill-color);\n",
              "    animation:\n",
              "      spin 1s steps(1) infinite;\n",
              "  }\n",
              "\n",
              "  @keyframes spin {\n",
              "    0% {\n",
              "      border-color: transparent;\n",
              "      border-bottom-color: var(--fill-color);\n",
              "      border-left-color: var(--fill-color);\n",
              "    }\n",
              "    20% {\n",
              "      border-color: transparent;\n",
              "      border-left-color: var(--fill-color);\n",
              "      border-top-color: var(--fill-color);\n",
              "    }\n",
              "    30% {\n",
              "      border-color: transparent;\n",
              "      border-left-color: var(--fill-color);\n",
              "      border-top-color: var(--fill-color);\n",
              "      border-right-color: var(--fill-color);\n",
              "    }\n",
              "    40% {\n",
              "      border-color: transparent;\n",
              "      border-right-color: var(--fill-color);\n",
              "      border-top-color: var(--fill-color);\n",
              "    }\n",
              "    60% {\n",
              "      border-color: transparent;\n",
              "      border-right-color: var(--fill-color);\n",
              "    }\n",
              "    80% {\n",
              "      border-color: transparent;\n",
              "      border-right-color: var(--fill-color);\n",
              "      border-bottom-color: var(--fill-color);\n",
              "    }\n",
              "    90% {\n",
              "      border-color: transparent;\n",
              "      border-bottom-color: var(--fill-color);\n",
              "    }\n",
              "  }\n",
              "</style>\n",
              "\n",
              "      <script>\n",
              "        async function quickchart(key) {\n",
              "          const quickchartButtonEl =\n",
              "            document.querySelector('#' + key + ' button');\n",
              "          quickchartButtonEl.disabled = true;  // To prevent multiple clicks.\n",
              "          quickchartButtonEl.classList.add('colab-df-spinner');\n",
              "          try {\n",
              "            const charts = await google.colab.kernel.invokeFunction(\n",
              "                'suggestCharts', [key], {});\n",
              "          } catch (error) {\n",
              "            console.error('Error during call to suggestCharts:', error);\n",
              "          }\n",
              "          quickchartButtonEl.classList.remove('colab-df-spinner');\n",
              "          quickchartButtonEl.classList.add('colab-df-quickchart-complete');\n",
              "        }\n",
              "        (() => {\n",
              "          let quickchartButtonEl =\n",
              "            document.querySelector('#df-c91980ef-0874-4e2e-94ff-285bfa56e7d4 button');\n",
              "          quickchartButtonEl.style.display =\n",
              "            google.colab.kernel.accessAllowed ? 'block' : 'none';\n",
              "        })();\n",
              "      </script>\n",
              "    </div>\n",
              "\n",
              "  <div id=\"id_ac432ae3-93f6-47ad-a042-d769acf730f5\">\n",
              "    <style>\n",
              "      .colab-df-generate {\n",
              "        background-color: #E8F0FE;\n",
              "        border: none;\n",
              "        border-radius: 50%;\n",
              "        cursor: pointer;\n",
              "        display: none;\n",
              "        fill: #1967D2;\n",
              "        height: 32px;\n",
              "        padding: 0 0 0 0;\n",
              "        width: 32px;\n",
              "      }\n",
              "\n",
              "      .colab-df-generate:hover {\n",
              "        background-color: #E2EBFA;\n",
              "        box-shadow: 0px 1px 2px rgba(60, 64, 67, 0.3), 0px 1px 3px 1px rgba(60, 64, 67, 0.15);\n",
              "        fill: #174EA6;\n",
              "      }\n",
              "\n",
              "      [theme=dark] .colab-df-generate {\n",
              "        background-color: #3B4455;\n",
              "        fill: #D2E3FC;\n",
              "      }\n",
              "\n",
              "      [theme=dark] .colab-df-generate:hover {\n",
              "        background-color: #434B5C;\n",
              "        box-shadow: 0px 1px 3px 1px rgba(0, 0, 0, 0.15);\n",
              "        filter: drop-shadow(0px 1px 2px rgba(0, 0, 0, 0.3));\n",
              "        fill: #FFFFFF;\n",
              "      }\n",
              "    </style>\n",
              "    <button class=\"colab-df-generate\" onclick=\"generateWithVariable('df')\"\n",
              "            title=\"Generate code using this dataframe.\"\n",
              "            style=\"display:none;\">\n",
              "\n",
              "  <svg xmlns=\"http://www.w3.org/2000/svg\" height=\"24px\"viewBox=\"0 0 24 24\"\n",
              "       width=\"24px\">\n",
              "    <path d=\"M7,19H8.4L18.45,9,17,7.55,7,17.6ZM5,21V16.75L18.45,3.32a2,2,0,0,1,2.83,0l1.4,1.43a1.91,1.91,0,0,1,.58,1.4,1.91,1.91,0,0,1-.58,1.4L9.25,21ZM18.45,9,17,7.55Zm-12,3A5.31,5.31,0,0,0,4.9,8.1,5.31,5.31,0,0,0,1,6.5,5.31,5.31,0,0,0,4.9,4.9,5.31,5.31,0,0,0,6.5,1,5.31,5.31,0,0,0,8.1,4.9,5.31,5.31,0,0,0,12,6.5,5.46,5.46,0,0,0,6.5,12Z\"/>\n",
              "  </svg>\n",
              "    </button>\n",
              "    <script>\n",
              "      (() => {\n",
              "      const buttonEl =\n",
              "        document.querySelector('#id_ac432ae3-93f6-47ad-a042-d769acf730f5 button.colab-df-generate');\n",
              "      buttonEl.style.display =\n",
              "        google.colab.kernel.accessAllowed ? 'block' : 'none';\n",
              "\n",
              "      buttonEl.onclick = () => {\n",
              "        google.colab.notebook.generateWithVariable('df');\n",
              "      }\n",
              "      })();\n",
              "    </script>\n",
              "  </div>\n",
              "\n",
              "    </div>\n",
              "  </div>\n"
            ],
            "text/plain": [
              "            Date    Value  cluster  db_cluster\n",
              "0     1970-01-01    35.20       -1          -1\n",
              "1     1970-04-01    35.10       -1          -1\n",
              "2     1970-07-01    35.40       -1          -1\n",
              "3     1970-10-01    36.20       -1          -1\n",
              "4     1971-01-01    37.40       -1          -1\n",
              "...          ...      ...      ...         ...\n",
              "10782 2020-03-09  1672.50       -1          -1\n",
              "10783 2020-03-10  1655.70       -1          -1\n",
              "10784 2020-03-11  1653.75       -1          -1\n",
              "10785 2020-03-12  1570.70       -1          -1\n",
              "10786 2020-03-13  1562.80       -1          -1\n",
              "\n",
              "[10787 rows x 4 columns]"
            ]
          },
          "execution_count": 34,
          "metadata": {},
          "output_type": "execute_result"
        }
      ],
      "source": [
        "df['db_cluster'] = dbscan_labels\n",
        "df"
      ]
    },
    {
      "cell_type": "code",
      "execution_count": null,
      "id": "Gyl7MQbPFpvL",
      "metadata": {
        "colab": {
          "base_uri": "https://localhost:8080/",
          "height": 423
        },
        "id": "Gyl7MQbPFpvL",
        "outputId": "047f26f2-8961-4610-c13a-d699486e5cdf"
      },
      "outputs": [
        {
          "data": {
            "application/vnd.google.colaboratory.intrinsic+json": {
              "summary": "{\n  \"name\": \"df\",\n  \"rows\": 10787,\n  \"fields\": [\n    {\n      \"column\": \"Date\",\n      \"properties\": {\n        \"dtype\": \"date\",\n        \"min\": \"1970-01-01 00:00:00\",\n        \"max\": \"2020-03-13 00:00:00\",\n        \"num_unique_values\": 10787,\n        \"samples\": [\n          \"2012-03-16 00:00:00\",\n          \"2019-02-18 00:00:00\",\n          \"1992-09-16 00:00:00\"\n        ],\n        \"semantic_type\": \"\",\n        \"description\": \"\"\n      }\n    },\n    {\n      \"column\": \"Value\",\n      \"properties\": {\n        \"dtype\": \"number\",\n        \"std\": 434.03084750601806,\n        \"min\": 35.1,\n        \"max\": 1895.0,\n        \"num_unique_values\": 5901,\n        \"samples\": [\n          790.25,\n          1290.35,\n          1212.85\n        ],\n        \"semantic_type\": \"\",\n        \"description\": \"\"\n      }\n    },\n    {\n      \"column\": \"cluster\",\n      \"properties\": {\n        \"dtype\": \"number\",\n        \"std\": 16,\n        \"min\": -1,\n        \"max\": 69,\n        \"num_unique_values\": 71,\n        \"samples\": [\n          16,\n          -1,\n          37\n        ],\n        \"semantic_type\": \"\",\n        \"description\": \"\"\n      }\n    },\n    {\n      \"column\": \"db_cluster\",\n      \"properties\": {\n        \"dtype\": \"number\",\n        \"std\": 16,\n        \"min\": -1,\n        \"max\": 69,\n        \"num_unique_values\": 71,\n        \"samples\": [\n          16,\n          -1,\n          37\n        ],\n        \"semantic_type\": \"\",\n        \"description\": \"\"\n      }\n    },\n    {\n      \"column\": \"km_cluster\",\n      \"properties\": {\n        \"dtype\": \"int32\",\n        \"num_unique_values\": 4,\n        \"samples\": [\n          2,\n          3,\n          0\n        ],\n        \"semantic_type\": \"\",\n        \"description\": \"\"\n      }\n    }\n  ]\n}",
              "type": "dataframe",
              "variable_name": "df"
            },
            "text/html": [
              "\n",
              "  <div id=\"df-6603c6e8-acce-4e8e-8eef-26b131340ed2\" class=\"colab-df-container\">\n",
              "    <div>\n",
              "<style scoped>\n",
              "    .dataframe tbody tr th:only-of-type {\n",
              "        vertical-align: middle;\n",
              "    }\n",
              "\n",
              "    .dataframe tbody tr th {\n",
              "        vertical-align: top;\n",
              "    }\n",
              "\n",
              "    .dataframe thead th {\n",
              "        text-align: right;\n",
              "    }\n",
              "</style>\n",
              "<table border=\"1\" class=\"dataframe\">\n",
              "  <thead>\n",
              "    <tr style=\"text-align: right;\">\n",
              "      <th></th>\n",
              "      <th>Date</th>\n",
              "      <th>Value</th>\n",
              "      <th>cluster</th>\n",
              "      <th>db_cluster</th>\n",
              "      <th>km_cluster</th>\n",
              "    </tr>\n",
              "  </thead>\n",
              "  <tbody>\n",
              "    <tr>\n",
              "      <th>0</th>\n",
              "      <td>1970-01-01</td>\n",
              "      <td>35.20</td>\n",
              "      <td>-1</td>\n",
              "      <td>-1</td>\n",
              "      <td>0</td>\n",
              "    </tr>\n",
              "    <tr>\n",
              "      <th>1</th>\n",
              "      <td>1970-04-01</td>\n",
              "      <td>35.10</td>\n",
              "      <td>-1</td>\n",
              "      <td>-1</td>\n",
              "      <td>0</td>\n",
              "    </tr>\n",
              "    <tr>\n",
              "      <th>2</th>\n",
              "      <td>1970-07-01</td>\n",
              "      <td>35.40</td>\n",
              "      <td>-1</td>\n",
              "      <td>-1</td>\n",
              "      <td>0</td>\n",
              "    </tr>\n",
              "    <tr>\n",
              "      <th>3</th>\n",
              "      <td>1970-10-01</td>\n",
              "      <td>36.20</td>\n",
              "      <td>-1</td>\n",
              "      <td>-1</td>\n",
              "      <td>0</td>\n",
              "    </tr>\n",
              "    <tr>\n",
              "      <th>4</th>\n",
              "      <td>1971-01-01</td>\n",
              "      <td>37.40</td>\n",
              "      <td>-1</td>\n",
              "      <td>-1</td>\n",
              "      <td>0</td>\n",
              "    </tr>\n",
              "    <tr>\n",
              "      <th>...</th>\n",
              "      <td>...</td>\n",
              "      <td>...</td>\n",
              "      <td>...</td>\n",
              "      <td>...</td>\n",
              "      <td>...</td>\n",
              "    </tr>\n",
              "    <tr>\n",
              "      <th>10782</th>\n",
              "      <td>2020-03-09</td>\n",
              "      <td>1672.50</td>\n",
              "      <td>-1</td>\n",
              "      <td>-1</td>\n",
              "      <td>3</td>\n",
              "    </tr>\n",
              "    <tr>\n",
              "      <th>10783</th>\n",
              "      <td>2020-03-10</td>\n",
              "      <td>1655.70</td>\n",
              "      <td>-1</td>\n",
              "      <td>-1</td>\n",
              "      <td>3</td>\n",
              "    </tr>\n",
              "    <tr>\n",
              "      <th>10784</th>\n",
              "      <td>2020-03-11</td>\n",
              "      <td>1653.75</td>\n",
              "      <td>-1</td>\n",
              "      <td>-1</td>\n",
              "      <td>3</td>\n",
              "    </tr>\n",
              "    <tr>\n",
              "      <th>10785</th>\n",
              "      <td>2020-03-12</td>\n",
              "      <td>1570.70</td>\n",
              "      <td>-1</td>\n",
              "      <td>-1</td>\n",
              "      <td>3</td>\n",
              "    </tr>\n",
              "    <tr>\n",
              "      <th>10786</th>\n",
              "      <td>2020-03-13</td>\n",
              "      <td>1562.80</td>\n",
              "      <td>-1</td>\n",
              "      <td>-1</td>\n",
              "      <td>3</td>\n",
              "    </tr>\n",
              "  </tbody>\n",
              "</table>\n",
              "<p>10787 rows × 5 columns</p>\n",
              "</div>\n",
              "    <div class=\"colab-df-buttons\">\n",
              "\n",
              "  <div class=\"colab-df-container\">\n",
              "    <button class=\"colab-df-convert\" onclick=\"convertToInteractive('df-6603c6e8-acce-4e8e-8eef-26b131340ed2')\"\n",
              "            title=\"Convert this dataframe to an interactive table.\"\n",
              "            style=\"display:none;\">\n",
              "\n",
              "  <svg xmlns=\"http://www.w3.org/2000/svg\" height=\"24px\" viewBox=\"0 -960 960 960\">\n",
              "    <path d=\"M120-120v-720h720v720H120Zm60-500h600v-160H180v160Zm220 220h160v-160H400v160Zm0 220h160v-160H400v160ZM180-400h160v-160H180v160Zm440 0h160v-160H620v160ZM180-180h160v-160H180v160Zm440 0h160v-160H620v160Z\"/>\n",
              "  </svg>\n",
              "    </button>\n",
              "\n",
              "  <style>\n",
              "    .colab-df-container {\n",
              "      display:flex;\n",
              "      gap: 12px;\n",
              "    }\n",
              "\n",
              "    .colab-df-convert {\n",
              "      background-color: #E8F0FE;\n",
              "      border: none;\n",
              "      border-radius: 50%;\n",
              "      cursor: pointer;\n",
              "      display: none;\n",
              "      fill: #1967D2;\n",
              "      height: 32px;\n",
              "      padding: 0 0 0 0;\n",
              "      width: 32px;\n",
              "    }\n",
              "\n",
              "    .colab-df-convert:hover {\n",
              "      background-color: #E2EBFA;\n",
              "      box-shadow: 0px 1px 2px rgba(60, 64, 67, 0.3), 0px 1px 3px 1px rgba(60, 64, 67, 0.15);\n",
              "      fill: #174EA6;\n",
              "    }\n",
              "\n",
              "    .colab-df-buttons div {\n",
              "      margin-bottom: 4px;\n",
              "    }\n",
              "\n",
              "    [theme=dark] .colab-df-convert {\n",
              "      background-color: #3B4455;\n",
              "      fill: #D2E3FC;\n",
              "    }\n",
              "\n",
              "    [theme=dark] .colab-df-convert:hover {\n",
              "      background-color: #434B5C;\n",
              "      box-shadow: 0px 1px 3px 1px rgba(0, 0, 0, 0.15);\n",
              "      filter: drop-shadow(0px 1px 2px rgba(0, 0, 0, 0.3));\n",
              "      fill: #FFFFFF;\n",
              "    }\n",
              "  </style>\n",
              "\n",
              "    <script>\n",
              "      const buttonEl =\n",
              "        document.querySelector('#df-6603c6e8-acce-4e8e-8eef-26b131340ed2 button.colab-df-convert');\n",
              "      buttonEl.style.display =\n",
              "        google.colab.kernel.accessAllowed ? 'block' : 'none';\n",
              "\n",
              "      async function convertToInteractive(key) {\n",
              "        const element = document.querySelector('#df-6603c6e8-acce-4e8e-8eef-26b131340ed2');\n",
              "        const dataTable =\n",
              "          await google.colab.kernel.invokeFunction('convertToInteractive',\n",
              "                                                    [key], {});\n",
              "        if (!dataTable) return;\n",
              "\n",
              "        const docLinkHtml = 'Like what you see? Visit the ' +\n",
              "          '<a target=\"_blank\" href=https://colab.research.google.com/notebooks/data_table.ipynb>data table notebook</a>'\n",
              "          + ' to learn more about interactive tables.';\n",
              "        element.innerHTML = '';\n",
              "        dataTable['output_type'] = 'display_data';\n",
              "        await google.colab.output.renderOutput(dataTable, element);\n",
              "        const docLink = document.createElement('div');\n",
              "        docLink.innerHTML = docLinkHtml;\n",
              "        element.appendChild(docLink);\n",
              "      }\n",
              "    </script>\n",
              "  </div>\n",
              "\n",
              "\n",
              "    <div id=\"df-c8166a12-3638-492a-8bca-7b2694d1f886\">\n",
              "      <button class=\"colab-df-quickchart\" onclick=\"quickchart('df-c8166a12-3638-492a-8bca-7b2694d1f886')\"\n",
              "                title=\"Suggest charts\"\n",
              "                style=\"display:none;\">\n",
              "\n",
              "<svg xmlns=\"http://www.w3.org/2000/svg\" height=\"24px\"viewBox=\"0 0 24 24\"\n",
              "     width=\"24px\">\n",
              "    <g>\n",
              "        <path d=\"M19 3H5c-1.1 0-2 .9-2 2v14c0 1.1.9 2 2 2h14c1.1 0 2-.9 2-2V5c0-1.1-.9-2-2-2zM9 17H7v-7h2v7zm4 0h-2V7h2v10zm4 0h-2v-4h2v4z\"/>\n",
              "    </g>\n",
              "</svg>\n",
              "      </button>\n",
              "\n",
              "<style>\n",
              "  .colab-df-quickchart {\n",
              "      --bg-color: #E8F0FE;\n",
              "      --fill-color: #1967D2;\n",
              "      --hover-bg-color: #E2EBFA;\n",
              "      --hover-fill-color: #174EA6;\n",
              "      --disabled-fill-color: #AAA;\n",
              "      --disabled-bg-color: #DDD;\n",
              "  }\n",
              "\n",
              "  [theme=dark] .colab-df-quickchart {\n",
              "      --bg-color: #3B4455;\n",
              "      --fill-color: #D2E3FC;\n",
              "      --hover-bg-color: #434B5C;\n",
              "      --hover-fill-color: #FFFFFF;\n",
              "      --disabled-bg-color: #3B4455;\n",
              "      --disabled-fill-color: #666;\n",
              "  }\n",
              "\n",
              "  .colab-df-quickchart {\n",
              "    background-color: var(--bg-color);\n",
              "    border: none;\n",
              "    border-radius: 50%;\n",
              "    cursor: pointer;\n",
              "    display: none;\n",
              "    fill: var(--fill-color);\n",
              "    height: 32px;\n",
              "    padding: 0;\n",
              "    width: 32px;\n",
              "  }\n",
              "\n",
              "  .colab-df-quickchart:hover {\n",
              "    background-color: var(--hover-bg-color);\n",
              "    box-shadow: 0 1px 2px rgba(60, 64, 67, 0.3), 0 1px 3px 1px rgba(60, 64, 67, 0.15);\n",
              "    fill: var(--button-hover-fill-color);\n",
              "  }\n",
              "\n",
              "  .colab-df-quickchart-complete:disabled,\n",
              "  .colab-df-quickchart-complete:disabled:hover {\n",
              "    background-color: var(--disabled-bg-color);\n",
              "    fill: var(--disabled-fill-color);\n",
              "    box-shadow: none;\n",
              "  }\n",
              "\n",
              "  .colab-df-spinner {\n",
              "    border: 2px solid var(--fill-color);\n",
              "    border-color: transparent;\n",
              "    border-bottom-color: var(--fill-color);\n",
              "    animation:\n",
              "      spin 1s steps(1) infinite;\n",
              "  }\n",
              "\n",
              "  @keyframes spin {\n",
              "    0% {\n",
              "      border-color: transparent;\n",
              "      border-bottom-color: var(--fill-color);\n",
              "      border-left-color: var(--fill-color);\n",
              "    }\n",
              "    20% {\n",
              "      border-color: transparent;\n",
              "      border-left-color: var(--fill-color);\n",
              "      border-top-color: var(--fill-color);\n",
              "    }\n",
              "    30% {\n",
              "      border-color: transparent;\n",
              "      border-left-color: var(--fill-color);\n",
              "      border-top-color: var(--fill-color);\n",
              "      border-right-color: var(--fill-color);\n",
              "    }\n",
              "    40% {\n",
              "      border-color: transparent;\n",
              "      border-right-color: var(--fill-color);\n",
              "      border-top-color: var(--fill-color);\n",
              "    }\n",
              "    60% {\n",
              "      border-color: transparent;\n",
              "      border-right-color: var(--fill-color);\n",
              "    }\n",
              "    80% {\n",
              "      border-color: transparent;\n",
              "      border-right-color: var(--fill-color);\n",
              "      border-bottom-color: var(--fill-color);\n",
              "    }\n",
              "    90% {\n",
              "      border-color: transparent;\n",
              "      border-bottom-color: var(--fill-color);\n",
              "    }\n",
              "  }\n",
              "</style>\n",
              "\n",
              "      <script>\n",
              "        async function quickchart(key) {\n",
              "          const quickchartButtonEl =\n",
              "            document.querySelector('#' + key + ' button');\n",
              "          quickchartButtonEl.disabled = true;  // To prevent multiple clicks.\n",
              "          quickchartButtonEl.classList.add('colab-df-spinner');\n",
              "          try {\n",
              "            const charts = await google.colab.kernel.invokeFunction(\n",
              "                'suggestCharts', [key], {});\n",
              "          } catch (error) {\n",
              "            console.error('Error during call to suggestCharts:', error);\n",
              "          }\n",
              "          quickchartButtonEl.classList.remove('colab-df-spinner');\n",
              "          quickchartButtonEl.classList.add('colab-df-quickchart-complete');\n",
              "        }\n",
              "        (() => {\n",
              "          let quickchartButtonEl =\n",
              "            document.querySelector('#df-c8166a12-3638-492a-8bca-7b2694d1f886 button');\n",
              "          quickchartButtonEl.style.display =\n",
              "            google.colab.kernel.accessAllowed ? 'block' : 'none';\n",
              "        })();\n",
              "      </script>\n",
              "    </div>\n",
              "\n",
              "  <div id=\"id_d5b706ed-4245-48a3-80ad-ba8a951aac3f\">\n",
              "    <style>\n",
              "      .colab-df-generate {\n",
              "        background-color: #E8F0FE;\n",
              "        border: none;\n",
              "        border-radius: 50%;\n",
              "        cursor: pointer;\n",
              "        display: none;\n",
              "        fill: #1967D2;\n",
              "        height: 32px;\n",
              "        padding: 0 0 0 0;\n",
              "        width: 32px;\n",
              "      }\n",
              "\n",
              "      .colab-df-generate:hover {\n",
              "        background-color: #E2EBFA;\n",
              "        box-shadow: 0px 1px 2px rgba(60, 64, 67, 0.3), 0px 1px 3px 1px rgba(60, 64, 67, 0.15);\n",
              "        fill: #174EA6;\n",
              "      }\n",
              "\n",
              "      [theme=dark] .colab-df-generate {\n",
              "        background-color: #3B4455;\n",
              "        fill: #D2E3FC;\n",
              "      }\n",
              "\n",
              "      [theme=dark] .colab-df-generate:hover {\n",
              "        background-color: #434B5C;\n",
              "        box-shadow: 0px 1px 3px 1px rgba(0, 0, 0, 0.15);\n",
              "        filter: drop-shadow(0px 1px 2px rgba(0, 0, 0, 0.3));\n",
              "        fill: #FFFFFF;\n",
              "      }\n",
              "    </style>\n",
              "    <button class=\"colab-df-generate\" onclick=\"generateWithVariable('df')\"\n",
              "            title=\"Generate code using this dataframe.\"\n",
              "            style=\"display:none;\">\n",
              "\n",
              "  <svg xmlns=\"http://www.w3.org/2000/svg\" height=\"24px\"viewBox=\"0 0 24 24\"\n",
              "       width=\"24px\">\n",
              "    <path d=\"M7,19H8.4L18.45,9,17,7.55,7,17.6ZM5,21V16.75L18.45,3.32a2,2,0,0,1,2.83,0l1.4,1.43a1.91,1.91,0,0,1,.58,1.4,1.91,1.91,0,0,1-.58,1.4L9.25,21ZM18.45,9,17,7.55Zm-12,3A5.31,5.31,0,0,0,4.9,8.1,5.31,5.31,0,0,0,1,6.5,5.31,5.31,0,0,0,4.9,4.9,5.31,5.31,0,0,0,6.5,1,5.31,5.31,0,0,0,8.1,4.9,5.31,5.31,0,0,0,12,6.5,5.46,5.46,0,0,0,6.5,12Z\"/>\n",
              "  </svg>\n",
              "    </button>\n",
              "    <script>\n",
              "      (() => {\n",
              "      const buttonEl =\n",
              "        document.querySelector('#id_d5b706ed-4245-48a3-80ad-ba8a951aac3f button.colab-df-generate');\n",
              "      buttonEl.style.display =\n",
              "        google.colab.kernel.accessAllowed ? 'block' : 'none';\n",
              "\n",
              "      buttonEl.onclick = () => {\n",
              "        google.colab.notebook.generateWithVariable('df');\n",
              "      }\n",
              "      })();\n",
              "    </script>\n",
              "  </div>\n",
              "\n",
              "    </div>\n",
              "  </div>\n"
            ],
            "text/plain": [
              "            Date    Value  cluster  db_cluster  km_cluster\n",
              "0     1970-01-01    35.20       -1          -1           0\n",
              "1     1970-04-01    35.10       -1          -1           0\n",
              "2     1970-07-01    35.40       -1          -1           0\n",
              "3     1970-10-01    36.20       -1          -1           0\n",
              "4     1971-01-01    37.40       -1          -1           0\n",
              "...          ...      ...      ...         ...         ...\n",
              "10782 2020-03-09  1672.50       -1          -1           3\n",
              "10783 2020-03-10  1655.70       -1          -1           3\n",
              "10784 2020-03-11  1653.75       -1          -1           3\n",
              "10785 2020-03-12  1570.70       -1          -1           3\n",
              "10786 2020-03-13  1562.80       -1          -1           3\n",
              "\n",
              "[10787 rows x 5 columns]"
            ]
          },
          "execution_count": 35,
          "metadata": {},
          "output_type": "execute_result"
        }
      ],
      "source": [
        "df['km_cluster'] = kmeans_labels\n",
        "df"
      ]
    },
    {
      "cell_type": "markdown",
      "id": "BPQANn5aKufw",
      "metadata": {
        "id": "BPQANn5aKufw"
      },
      "source": [
        "#### 3.1.5 K-means cluster counts"
      ]
    },
    {
      "cell_type": "code",
      "execution_count": null,
      "id": "_1dCHOe5FRJX",
      "metadata": {
        "colab": {
          "base_uri": "https://localhost:8080/",
          "height": 241
        },
        "id": "_1dCHOe5FRJX",
        "outputId": "79c59110-636f-4179-effe-595de8e8d0a9"
      },
      "outputs": [
        {
          "data": {
            "text/html": [
              "<div>\n",
              "<style scoped>\n",
              "    .dataframe tbody tr th:only-of-type {\n",
              "        vertical-align: middle;\n",
              "    }\n",
              "\n",
              "    .dataframe tbody tr th {\n",
              "        vertical-align: top;\n",
              "    }\n",
              "\n",
              "    .dataframe thead th {\n",
              "        text-align: right;\n",
              "    }\n",
              "</style>\n",
              "<table border=\"1\" class=\"dataframe\">\n",
              "  <thead>\n",
              "    <tr style=\"text-align: right;\">\n",
              "      <th></th>\n",
              "      <th>count</th>\n",
              "    </tr>\n",
              "    <tr>\n",
              "      <th>km_cluster</th>\n",
              "      <th></th>\n",
              "    </tr>\n",
              "  </thead>\n",
              "  <tbody>\n",
              "    <tr>\n",
              "      <th>0</th>\n",
              "      <td>6884</td>\n",
              "    </tr>\n",
              "    <tr>\n",
              "      <th>1</th>\n",
              "      <td>2031</td>\n",
              "    </tr>\n",
              "    <tr>\n",
              "      <th>2</th>\n",
              "      <td>1159</td>\n",
              "    </tr>\n",
              "    <tr>\n",
              "      <th>3</th>\n",
              "      <td>713</td>\n",
              "    </tr>\n",
              "  </tbody>\n",
              "</table>\n",
              "</div><br><label><b>dtype:</b> int64</label>"
            ],
            "text/plain": [
              "km_cluster\n",
              "0    6884\n",
              "1    2031\n",
              "2    1159\n",
              "3     713\n",
              "Name: count, dtype: int64"
            ]
          },
          "execution_count": 36,
          "metadata": {},
          "output_type": "execute_result"
        }
      ],
      "source": [
        "df['km_cluster'].value_counts()"
      ]
    },
    {
      "cell_type": "markdown",
      "id": "lDCwizgpK82L",
      "metadata": {
        "id": "lDCwizgpK82L"
      },
      "source": [
        "#### 3.1.6 DBSCAN cluster counts"
      ]
    },
    {
      "cell_type": "code",
      "execution_count": null,
      "id": "pcNPZjpGK4Pk",
      "metadata": {
        "colab": {
          "base_uri": "https://localhost:8080/",
          "height": 489
        },
        "id": "pcNPZjpGK4Pk",
        "outputId": "15369f30-8662-49a6-ccea-df07098cab7e"
      },
      "outputs": [
        {
          "data": {
            "text/html": [
              "<div>\n",
              "<style scoped>\n",
              "    .dataframe tbody tr th:only-of-type {\n",
              "        vertical-align: middle;\n",
              "    }\n",
              "\n",
              "    .dataframe tbody tr th {\n",
              "        vertical-align: top;\n",
              "    }\n",
              "\n",
              "    .dataframe thead th {\n",
              "        text-align: right;\n",
              "    }\n",
              "</style>\n",
              "<table border=\"1\" class=\"dataframe\">\n",
              "  <thead>\n",
              "    <tr style=\"text-align: right;\">\n",
              "      <th></th>\n",
              "      <th>count</th>\n",
              "    </tr>\n",
              "    <tr>\n",
              "      <th>db_cluster</th>\n",
              "      <th></th>\n",
              "    </tr>\n",
              "  </thead>\n",
              "  <tbody>\n",
              "    <tr>\n",
              "      <th>-1</th>\n",
              "      <td>5624</td>\n",
              "    </tr>\n",
              "    <tr>\n",
              "      <th>21</th>\n",
              "      <td>1432</td>\n",
              "    </tr>\n",
              "    <tr>\n",
              "      <th>18</th>\n",
              "      <td>372</td>\n",
              "    </tr>\n",
              "    <tr>\n",
              "      <th>19</th>\n",
              "      <td>232</td>\n",
              "    </tr>\n",
              "    <tr>\n",
              "      <th>22</th>\n",
              "      <td>212</td>\n",
              "    </tr>\n",
              "    <tr>\n",
              "      <th>...</th>\n",
              "      <td>...</td>\n",
              "    </tr>\n",
              "    <tr>\n",
              "      <th>48</th>\n",
              "      <td>17</td>\n",
              "    </tr>\n",
              "    <tr>\n",
              "      <th>54</th>\n",
              "      <td>17</td>\n",
              "    </tr>\n",
              "    <tr>\n",
              "      <th>69</th>\n",
              "      <td>17</td>\n",
              "    </tr>\n",
              "    <tr>\n",
              "      <th>63</th>\n",
              "      <td>12</td>\n",
              "    </tr>\n",
              "    <tr>\n",
              "      <th>64</th>\n",
              "      <td>9</td>\n",
              "    </tr>\n",
              "  </tbody>\n",
              "</table>\n",
              "<p>71 rows × 1 columns</p>\n",
              "</div><br><label><b>dtype:</b> int64</label>"
            ],
            "text/plain": [
              "db_cluster\n",
              "-1     5624\n",
              " 21    1432\n",
              " 18     372\n",
              " 19     232\n",
              " 22     212\n",
              "       ... \n",
              " 48      17\n",
              " 54      17\n",
              " 69      17\n",
              " 63      12\n",
              " 64       9\n",
              "Name: count, Length: 71, dtype: int64"
            ]
          },
          "execution_count": 37,
          "metadata": {},
          "output_type": "execute_result"
        }
      ],
      "source": [
        "df['db_cluster'].value_counts()"
      ]
    },
    {
      "cell_type": "markdown",
      "id": "SQ3kxYUMLE8Y",
      "metadata": {
        "id": "SQ3kxYUMLE8Y"
      },
      "source": [
        "#### 3.1.7 K-means timeline"
      ]
    },
    {
      "cell_type": "code",
      "execution_count": null,
      "id": "c9uvydSBONu2",
      "metadata": {
        "colab": {
          "base_uri": "https://localhost:8080/",
          "height": 507
        },
        "id": "c9uvydSBONu2",
        "outputId": "42b9cf5a-0524-40b5-b014-ce44c7a9a10b"
      },
      "outputs": [
        {
          "data": {
            "image/png": "[encoded data removed]",
            "text/plain": [
              "<Figure size 1400x500 with 1 Axes>"
            ]
          },
          "metadata": {},
          "output_type": "display_data"
        }
      ],
      "source": [
        "plt.figure(figsize=(14, 5))\n",
        "plt.scatter(df['Date'], df['Value'], c=df['km_cluster'], cmap='tab10', s=10, alpha=0.7)\n",
        "plt.title('Gold Price Over Time Colored by KMeans Clusters')\n",
        "plt.xlabel('Date')\n",
        "plt.ylabel('Gold Price')\n",
        "plt.grid(True)\n",
        "plt.tight_layout()\n",
        "plt.show()"
      ]
    },
    {
      "cell_type": "markdown",
      "id": "_vfzX3rnLMH0",
      "metadata": {
        "id": "_vfzX3rnLMH0"
      },
      "source": [
        "#### 3.1.8 DBSCAN timeline"
      ]
    },
    {
      "cell_type": "code",
      "execution_count": null,
      "id": "-hA2R0vxOWOz",
      "metadata": {
        "colab": {
          "base_uri": "https://localhost:8080/",
          "height": 507
        },
        "id": "-hA2R0vxOWOz",
        "outputId": "c052fbb4-73fc-44a5-ce7b-98f13a5badc8"
      },
      "outputs": [
        {
          "data": {
            "image/png": "[encoded data removed]",
            "text/plain": [
              "<Figure size 1400x500 with 1 Axes>"
            ]
          },
          "metadata": {},
          "output_type": "display_data"
        }
      ],
      "source": [
        "plt.figure(figsize=(14, 5))\n",
        "plt.scatter(df['Date'], df['Value'], c=df['db_cluster'], cmap='Set1', s=10, alpha=0.7)\n",
        "plt.title('Gold Price Over Time Colored by DBSCAN Clusters')\n",
        "plt.xlabel('Date')\n",
        "plt.ylabel('Gold Price')\n",
        "plt.grid(True)\n",
        "plt.tight_layout()\n",
        "plt.show()"
      ]
    },
    {
      "cell_type": "markdown",
      "id": "c2c8e434-cb5a-45df-886e-7155311952ae",
      "metadata": {
        "id": "c2c8e434-cb5a-45df-886e-7155311952ae"
      },
      "source": [
        "## 4.0 Evaluation"
      ]
    },
    {
      "cell_type": "markdown",
      "id": "7bf1b58d-1f72-4aaf-aa37-65a0dfb63d17",
      "metadata": {
        "id": "7bf1b58d-1f72-4aaf-aa37-65a0dfb63d17"
      },
      "source": [
        "### 4.1 K-means silhouette score"
      ]
    },
    {
      "cell_type": "code",
      "execution_count": null,
      "id": "Wn1-f3NZQssr",
      "metadata": {
        "colab": {
          "base_uri": "https://localhost:8080/"
        },
        "id": "Wn1-f3NZQssr",
        "outputId": "f2413aaa-81f3-44c9-d662-bb152cb443bf"
      },
      "outputs": [
        {
          "data": {
            "text/plain": [
              "np.float64(0.7403402326107443)"
            ]
          },
          "execution_count": 42,
          "metadata": {},
          "output_type": "execute_result"
        }
      ],
      "source": [
        "ss(data_gold, df['km_cluster'])"
      ]
    },
    {
      "cell_type": "markdown",
      "id": "8a30dc44-94d1-4194-831e-b37755398915",
      "metadata": {
        "id": "8a30dc44-94d1-4194-831e-b37755398915"
      },
      "source": [
        "### 4.2 DBSCAN silhouette score"
      ]
    },
    {
      "cell_type": "code",
      "execution_count": null,
      "id": "aRGaPhMaRDKa",
      "metadata": {
        "colab": {
          "base_uri": "https://localhost:8080/"
        },
        "id": "aRGaPhMaRDKa",
        "outputId": "5e551bc0-0101-4f49-8228-c579f182a955"
      },
      "outputs": [
        {
          "data": {
            "text/plain": [
              "np.float64(0.11613600207879018)"
            ]
          },
          "execution_count": 43,
          "metadata": {},
          "output_type": "execute_result"
        }
      ],
      "source": [
        "ss(data_gold, df['db_cluster'])"
      ]
    },
    {
      "cell_type": "markdown",
      "id": "1413d4ee-7226-4635-a145-696c89266523",
      "metadata": {
        "id": "1413d4ee-7226-4635-a145-696c89266523"
      },
      "source": [
        "## 5.0 Deployment"
      ]
    },
    {
      "cell_type": "markdown",
      "id": "6b3377ca-6213-498c-8fa5-08239a450748",
      "metadata": {
        "id": "6b3377ca-6213-498c-8fa5-08239a450748"
      },
      "source": [
        "Paper: ComfortJDDS8536-1 - K-means and DBSCAN Clustering Analysis of Gold Prices and Housing Markets"
      ]
    }
  ],
  "metadata": {
    "colab": {
      "provenance": []
    },
    "kernelspec": {
      "display_name": "Python 3 (ipykernel)",
      "language": "python",
      "name": "python3"
    },
    "language_info": {
      "codemirror_mode": {
        "name": "ipython",
        "version": 3
      },
      "file_extension": ".py",
      "mimetype": "text/x-python",
      "name": "python",
      "nbconvert_exporter": "python",
      "pygments_lexer": "ipython3",
      "version": "3.12.3"
    }
  },
  "nbformat": 4,
  "nbformat_minor": 5
}
